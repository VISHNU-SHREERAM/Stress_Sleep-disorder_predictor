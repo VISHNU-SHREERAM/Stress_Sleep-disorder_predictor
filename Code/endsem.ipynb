{
 "cells": [
  {
   "cell_type": "markdown",
   "metadata": {
    "id": "x9dBBSwPvfm7"
   },
   "source": [
    "## Predicting Stress and Sleep Disorders Using Health and Lifestyle Data\n",
    "\n"
   ]
  },
  {
   "cell_type": "markdown",
   "metadata": {
    "id": "wQASajlJvuAX"
   },
   "source": [
    "# Team :-\n",
    "### Shanmukha Sri Krishna\n",
    "### Bhupati Varun\n",
    "### Vishnu Shreeram"
   ]
  },
  {
   "cell_type": "code",
   "execution_count": 39,
   "metadata": {
    "id": "wc_ZVMtEKay2"
   },
   "outputs": [],
   "source": [
    "import pandas as pd\n",
    "import numpy as np"
   ]
  },
  {
   "cell_type": "markdown",
   "metadata": {
    "id": "ERBaE_rcKay6"
   },
   "source": [
    "# Loading Dataset\n",
    "To load the dataset, we can use the `read_csv()` function from the pandas library :\n",
    "\n",
    "```\n",
    "python\n",
    "df_part1 = pd.read_csv('./Sleep_health_and_lifestyle_dataset.csv')\n",
    "df_part2 = pd.read_csv('./Sleep_health_and_lifestyle_dataset_part_2.csv')\n",
    "```\n",
    "These two lines of code will load the dataset from the CSV files `Sleep_health_and_lifestyle_dataset.csv` and `Sleep_health_and_lifestyle_dataset_part_2.csv` respectively and store them in the variables `df_part1` and `df_part2`.\n"
   ]
  },
  {
   "cell_type": "code",
   "execution_count": 40,
   "metadata": {
    "id": "kFxgA-FsKay-"
   },
   "outputs": [],
   "source": [
    "df_part1 = pd.read_csv('./Sleep_health_and_lifestyle_dataset.csv')\n",
    "df_part2 = pd.read_csv('./Sleep_health_and_lifestyle_dataset_part_2.csv')"
   ]
  },
  {
   "cell_type": "markdown",
   "metadata": {
    "id": "zI2YOtwXKay-"
   },
   "source": [
    "# Merging two parts of the dataset to create a single one"
   ]
  },
  {
   "cell_type": "code",
   "execution_count": 41,
   "metadata": {
    "id": "j6SZbBkUKazA"
   },
   "outputs": [
    {
     "name": "stdout",
     "output_type": "stream",
     "text": [
      "(560, 13)\n"
     ]
    },
    {
     "data": {
      "text/html": [
       "<div>\n",
       "<style scoped>\n",
       "    .dataframe tbody tr th:only-of-type {\n",
       "        vertical-align: middle;\n",
       "    }\n",
       "\n",
       "    .dataframe tbody tr th {\n",
       "        vertical-align: top;\n",
       "    }\n",
       "\n",
       "    .dataframe thead th {\n",
       "        text-align: right;\n",
       "    }\n",
       "</style>\n",
       "<table border=\"1\" class=\"dataframe\">\n",
       "  <thead>\n",
       "    <tr style=\"text-align: right;\">\n",
       "      <th></th>\n",
       "      <th>Person ID</th>\n",
       "      <th>Gender</th>\n",
       "      <th>Age</th>\n",
       "      <th>Occupation</th>\n",
       "      <th>Sleep Duration</th>\n",
       "      <th>Quality of Sleep</th>\n",
       "      <th>Physical Activity Level</th>\n",
       "      <th>Stress Level</th>\n",
       "      <th>BMI Category</th>\n",
       "      <th>Blood Pressure</th>\n",
       "      <th>Heart Rate</th>\n",
       "      <th>Daily Steps</th>\n",
       "      <th>Sleep Disorder</th>\n",
       "    </tr>\n",
       "  </thead>\n",
       "  <tbody>\n",
       "    <tr>\n",
       "      <th>0</th>\n",
       "      <td>1</td>\n",
       "      <td>Male</td>\n",
       "      <td>27</td>\n",
       "      <td>Software Engineer</td>\n",
       "      <td>6.1</td>\n",
       "      <td>6</td>\n",
       "      <td>42</td>\n",
       "      <td>6</td>\n",
       "      <td>Overweight</td>\n",
       "      <td>126/83</td>\n",
       "      <td>77</td>\n",
       "      <td>4200</td>\n",
       "      <td>NaN</td>\n",
       "    </tr>\n",
       "    <tr>\n",
       "      <th>1</th>\n",
       "      <td>2</td>\n",
       "      <td>Male</td>\n",
       "      <td>28</td>\n",
       "      <td>Doctor</td>\n",
       "      <td>6.2</td>\n",
       "      <td>6</td>\n",
       "      <td>60</td>\n",
       "      <td>8</td>\n",
       "      <td>Normal</td>\n",
       "      <td>125/80</td>\n",
       "      <td>75</td>\n",
       "      <td>10000</td>\n",
       "      <td>NaN</td>\n",
       "    </tr>\n",
       "    <tr>\n",
       "      <th>2</th>\n",
       "      <td>3</td>\n",
       "      <td>Male</td>\n",
       "      <td>28</td>\n",
       "      <td>Doctor</td>\n",
       "      <td>6.2</td>\n",
       "      <td>6</td>\n",
       "      <td>60</td>\n",
       "      <td>8</td>\n",
       "      <td>Normal</td>\n",
       "      <td>125/80</td>\n",
       "      <td>75</td>\n",
       "      <td>10000</td>\n",
       "      <td>NaN</td>\n",
       "    </tr>\n",
       "    <tr>\n",
       "      <th>3</th>\n",
       "      <td>4</td>\n",
       "      <td>Male</td>\n",
       "      <td>28</td>\n",
       "      <td>Sales Representative</td>\n",
       "      <td>5.9</td>\n",
       "      <td>4</td>\n",
       "      <td>30</td>\n",
       "      <td>8</td>\n",
       "      <td>Obese</td>\n",
       "      <td>140/90</td>\n",
       "      <td>85</td>\n",
       "      <td>3000</td>\n",
       "      <td>Sleep Apnea</td>\n",
       "    </tr>\n",
       "    <tr>\n",
       "      <th>4</th>\n",
       "      <td>5</td>\n",
       "      <td>Male</td>\n",
       "      <td>28</td>\n",
       "      <td>Sales Representative</td>\n",
       "      <td>5.9</td>\n",
       "      <td>4</td>\n",
       "      <td>30</td>\n",
       "      <td>8</td>\n",
       "      <td>Obese</td>\n",
       "      <td>140/90</td>\n",
       "      <td>85</td>\n",
       "      <td>3000</td>\n",
       "      <td>Sleep Apnea</td>\n",
       "    </tr>\n",
       "  </tbody>\n",
       "</table>\n",
       "</div>"
      ],
      "text/plain": [
       "   Person ID Gender  Age            Occupation  Sleep Duration  \\\n",
       "0          1   Male   27     Software Engineer             6.1   \n",
       "1          2   Male   28                Doctor             6.2   \n",
       "2          3   Male   28                Doctor             6.2   \n",
       "3          4   Male   28  Sales Representative             5.9   \n",
       "4          5   Male   28  Sales Representative             5.9   \n",
       "\n",
       "   Quality of Sleep  Physical Activity Level  Stress Level BMI Category  \\\n",
       "0                 6                       42             6   Overweight   \n",
       "1                 6                       60             8       Normal   \n",
       "2                 6                       60             8       Normal   \n",
       "3                 4                       30             8        Obese   \n",
       "4                 4                       30             8        Obese   \n",
       "\n",
       "  Blood Pressure  Heart Rate  Daily Steps Sleep Disorder  \n",
       "0         126/83          77         4200            NaN  \n",
       "1         125/80          75        10000            NaN  \n",
       "2         125/80          75        10000            NaN  \n",
       "3         140/90          85         3000    Sleep Apnea  \n",
       "4         140/90          85         3000    Sleep Apnea  "
      ]
     },
     "execution_count": 41,
     "metadata": {},
     "output_type": "execute_result"
    }
   ],
   "source": [
    "df = pd.concat((df_part1, df_part2))\n",
    "print(df.shape)\n",
    "df.head()"
   ]
  },
  {
   "cell_type": "markdown",
   "metadata": {
    "id": "0FyqAc8vKazC"
   },
   "source": [
    "## Exploring the data set"
   ]
  },
  {
   "cell_type": "code",
   "execution_count": 42,
   "metadata": {
    "id": "FaT6_3sbKazD"
   },
   "outputs": [
    {
     "name": "stdout",
     "output_type": "stream",
     "text": [
      "<class 'pandas.core.frame.DataFrame'>\n",
      "Index: 560 entries, 0 to 185\n",
      "Data columns (total 13 columns):\n",
      " #   Column                   Non-Null Count  Dtype  \n",
      "---  ------                   --------------  -----  \n",
      " 0   Person ID                560 non-null    int64  \n",
      " 1   Gender                   560 non-null    object \n",
      " 2   Age                      560 non-null    int64  \n",
      " 3   Occupation               560 non-null    object \n",
      " 4   Sleep Duration           560 non-null    float64\n",
      " 5   Quality of Sleep         560 non-null    int64  \n",
      " 6   Physical Activity Level  560 non-null    int64  \n",
      " 7   Stress Level             560 non-null    int64  \n",
      " 8   BMI Category             560 non-null    object \n",
      " 9   Blood Pressure           560 non-null    object \n",
      " 10  Heart Rate               560 non-null    int64  \n",
      " 11  Daily Steps              560 non-null    int64  \n",
      " 12  Sleep Disorder           185 non-null    object \n",
      "dtypes: float64(1), int64(7), object(5)\n",
      "memory usage: 61.2+ KB\n"
     ]
    }
   ],
   "source": [
    "df.info()"
   ]
  },
  {
   "cell_type": "code",
   "execution_count": 5,
   "metadata": {
    "id": "GMKUmNTKKazE"
   },
   "outputs": [
    {
     "data": {
      "text/html": [
       "<div>\n",
       "<style scoped>\n",
       "    .dataframe tbody tr th:only-of-type {\n",
       "        vertical-align: middle;\n",
       "    }\n",
       "\n",
       "    .dataframe tbody tr th {\n",
       "        vertical-align: top;\n",
       "    }\n",
       "\n",
       "    .dataframe thead th {\n",
       "        text-align: right;\n",
       "    }\n",
       "</style>\n",
       "<table border=\"1\" class=\"dataframe\">\n",
       "  <thead>\n",
       "    <tr style=\"text-align: right;\">\n",
       "      <th></th>\n",
       "      <th>Person ID</th>\n",
       "      <th>Age</th>\n",
       "      <th>Sleep Duration</th>\n",
       "      <th>Quality of Sleep</th>\n",
       "      <th>Physical Activity Level</th>\n",
       "      <th>Stress Level</th>\n",
       "      <th>Heart Rate</th>\n",
       "      <th>Daily Steps</th>\n",
       "    </tr>\n",
       "  </thead>\n",
       "  <tbody>\n",
       "    <tr>\n",
       "      <th>count</th>\n",
       "      <td>560.000000</td>\n",
       "      <td>560.000000</td>\n",
       "      <td>560.000000</td>\n",
       "      <td>560.000000</td>\n",
       "      <td>560.000000</td>\n",
       "      <td>560.000000</td>\n",
       "      <td>560.000000</td>\n",
       "      <td>560.000000</td>\n",
       "    </tr>\n",
       "    <tr>\n",
       "      <th>mean</th>\n",
       "      <td>280.167857</td>\n",
       "      <td>40.021429</td>\n",
       "      <td>7.115893</td>\n",
       "      <td>7.275000</td>\n",
       "      <td>58.787500</td>\n",
       "      <td>5.458929</td>\n",
       "      <td>70.178571</td>\n",
       "      <td>6821.071429</td>\n",
       "    </tr>\n",
       "    <tr>\n",
       "      <th>std</th>\n",
       "      <td>161.418024</td>\n",
       "      <td>8.132153</td>\n",
       "      <td>0.742655</td>\n",
       "      <td>1.134631</td>\n",
       "      <td>19.955394</td>\n",
       "      <td>1.676447</td>\n",
       "      <td>3.873247</td>\n",
       "      <td>1527.465518</td>\n",
       "    </tr>\n",
       "    <tr>\n",
       "      <th>min</th>\n",
       "      <td>1.000000</td>\n",
       "      <td>27.000000</td>\n",
       "      <td>5.800000</td>\n",
       "      <td>4.000000</td>\n",
       "      <td>30.000000</td>\n",
       "      <td>3.000000</td>\n",
       "      <td>65.000000</td>\n",
       "      <td>3000.000000</td>\n",
       "    </tr>\n",
       "    <tr>\n",
       "      <th>25%</th>\n",
       "      <td>140.750000</td>\n",
       "      <td>33.000000</td>\n",
       "      <td>6.500000</td>\n",
       "      <td>6.000000</td>\n",
       "      <td>45.000000</td>\n",
       "      <td>4.000000</td>\n",
       "      <td>68.000000</td>\n",
       "      <td>5500.000000</td>\n",
       "    </tr>\n",
       "    <tr>\n",
       "      <th>50%</th>\n",
       "      <td>280.500000</td>\n",
       "      <td>38.000000</td>\n",
       "      <td>7.200000</td>\n",
       "      <td>7.000000</td>\n",
       "      <td>60.000000</td>\n",
       "      <td>5.000000</td>\n",
       "      <td>70.000000</td>\n",
       "      <td>7000.000000</td>\n",
       "    </tr>\n",
       "    <tr>\n",
       "      <th>75%</th>\n",
       "      <td>419.250000</td>\n",
       "      <td>44.000000</td>\n",
       "      <td>7.700000</td>\n",
       "      <td>8.000000</td>\n",
       "      <td>75.000000</td>\n",
       "      <td>7.000000</td>\n",
       "      <td>72.000000</td>\n",
       "      <td>8000.000000</td>\n",
       "    </tr>\n",
       "    <tr>\n",
       "      <th>max</th>\n",
       "      <td>559.000000</td>\n",
       "      <td>59.000000</td>\n",
       "      <td>8.500000</td>\n",
       "      <td>9.000000</td>\n",
       "      <td>90.000000</td>\n",
       "      <td>8.000000</td>\n",
       "      <td>86.000000</td>\n",
       "      <td>10000.000000</td>\n",
       "    </tr>\n",
       "  </tbody>\n",
       "</table>\n",
       "</div>"
      ],
      "text/plain": [
       "        Person ID         Age  Sleep Duration  Quality of Sleep  \\\n",
       "count  560.000000  560.000000      560.000000        560.000000   \n",
       "mean   280.167857   40.021429        7.115893          7.275000   \n",
       "std    161.418024    8.132153        0.742655          1.134631   \n",
       "min      1.000000   27.000000        5.800000          4.000000   \n",
       "25%    140.750000   33.000000        6.500000          6.000000   \n",
       "50%    280.500000   38.000000        7.200000          7.000000   \n",
       "75%    419.250000   44.000000        7.700000          8.000000   \n",
       "max    559.000000   59.000000        8.500000          9.000000   \n",
       "\n",
       "       Physical Activity Level  Stress Level  Heart Rate   Daily Steps  \n",
       "count               560.000000    560.000000  560.000000    560.000000  \n",
       "mean                 58.787500      5.458929   70.178571   6821.071429  \n",
       "std                  19.955394      1.676447    3.873247   1527.465518  \n",
       "min                  30.000000      3.000000   65.000000   3000.000000  \n",
       "25%                  45.000000      4.000000   68.000000   5500.000000  \n",
       "50%                  60.000000      5.000000   70.000000   7000.000000  \n",
       "75%                  75.000000      7.000000   72.000000   8000.000000  \n",
       "max                  90.000000      8.000000   86.000000  10000.000000  "
      ]
     },
     "execution_count": 5,
     "metadata": {},
     "output_type": "execute_result"
    }
   ],
   "source": [
    "df.describe()"
   ]
  },
  {
   "cell_type": "markdown",
   "metadata": {
    "id": "qIHZbciaKazG"
   },
   "source": [
    "# Dropping Irrelevant Feature Person ID"
   ]
  },
  {
   "cell_type": "code",
   "execution_count": 6,
   "metadata": {
    "id": "AVvPEJC0KazH"
   },
   "outputs": [],
   "source": [
    "df.drop('Person ID', axis=1, inplace=True)"
   ]
  },
  {
   "cell_type": "markdown",
   "metadata": {
    "id": "b_vQad-0KazH"
   },
   "source": [
    "# Handling NA values  "
   ]
  },
  {
   "cell_type": "code",
   "execution_count": 7,
   "metadata": {
    "id": "Jy_Cdkv1KazJ"
   },
   "outputs": [
    {
     "data": {
      "text/plain": [
       "Gender                       0\n",
       "Age                          0\n",
       "Occupation                   0\n",
       "Sleep Duration               0\n",
       "Quality of Sleep             0\n",
       "Physical Activity Level      0\n",
       "Stress Level                 0\n",
       "BMI Category                 0\n",
       "Blood Pressure               0\n",
       "Heart Rate                   0\n",
       "Daily Steps                  0\n",
       "Sleep Disorder             375\n",
       "dtype: int64"
      ]
     },
     "execution_count": 7,
     "metadata": {},
     "output_type": "execute_result"
    }
   ],
   "source": [
    "df.isnull().sum()"
   ]
  },
  {
   "cell_type": "markdown",
   "metadata": {
    "id": "r82RyU8fKazK"
   },
   "source": [
    "### NA values found in 'Sleep Disorder' indicates that the person doesn't have any sleep disorders, so instead of treating it as NA value we will assign 'None' to it"
   ]
  },
  {
   "cell_type": "code",
   "execution_count": 8,
   "metadata": {
    "id": "c7d0q8ZpKazK"
   },
   "outputs": [],
   "source": [
    "df['Sleep Disorder'] = df['Sleep Disorder'].fillna('None')"
   ]
  },
  {
   "cell_type": "code",
   "execution_count": 9,
   "metadata": {
    "id": "jP9mElUEKazL"
   },
   "outputs": [
    {
     "data": {
      "text/plain": [
       "Gender                     0\n",
       "Age                        0\n",
       "Occupation                 0\n",
       "Sleep Duration             0\n",
       "Quality of Sleep           0\n",
       "Physical Activity Level    0\n",
       "Stress Level               0\n",
       "BMI Category               0\n",
       "Blood Pressure             0\n",
       "Heart Rate                 0\n",
       "Daily Steps                0\n",
       "Sleep Disorder             0\n",
       "dtype: int64"
      ]
     },
     "execution_count": 9,
     "metadata": {},
     "output_type": "execute_result"
    }
   ],
   "source": [
    "df.isnull().sum()"
   ]
  },
  {
   "cell_type": "code",
   "execution_count": 43,
   "metadata": {},
   "outputs": [
    {
     "name": "stdout",
     "output_type": "stream",
     "text": [
      "Person ID [  1   2   3   4   5   6   7   8   9  10  11  12  13  14  15  16  17  18\n",
      "  19  20  21  22  23  24  25  26  27  28  29  30  31  32  33  34  35  36\n",
      "  37  38  39  40  41  42  43  44  45  46  47  48  49  50  51  52  53  54\n",
      "  55  56  57  58  59  60  61  62  63  64  65  66  67  68  69  70  71  72\n",
      "  73  74  75  76  77  78  79  80  81  82  83  84  85  86  87  88  89  90\n",
      "  91  92  93  94  95  96  97  98  99 100 101 102 103 104 105 106 107 108\n",
      " 109 110 111 112 113 114 115 116 117 118 119 120 121 122 123 124 125 126\n",
      " 127 128 129 130 131 132 133 134 135 136 137 138 139 140 141 142 143 144\n",
      " 145 146 147 148 149 150 151 152 153 154 155 156 157 158 159 160 161 162\n",
      " 163 164 165 166 167 168 169 170 171 172 173 174 175 176 177 178 179 180\n",
      " 181 182 183 184 185 186 187 188 189 190 191 192 193 194 195 196 197 198\n",
      " 199 200 201 202 203 204 205 206 207 208 209 210 211 212 213 214 215 216\n",
      " 217 218 219 220 221 222 223 224 225 226 227 228 229 230 231 232 233 234\n",
      " 235 236 237 238 239 240 241 242 243 244 245 246 247 248 249 250 251 252\n",
      " 253 254 255 256 257 258 259 260 261 262 263 264 265 266 267 268 269 270\n",
      " 271 272 273 274 275 276 277 278 279 280 281 282 283 284 285 286 287 288\n",
      " 289 290 291 292 293 294 295 296 297 298 299 300 301 302 303 304 305 306\n",
      " 307 308 309 310 311 312 313 314 315 316 317 318 319 320 321 322 323 324\n",
      " 325 326 327 328 329 330 331 332 333 334 335 336 337 338 339 340 341 342\n",
      " 343 344 345 346 347 348 349 350 351 352 353 354 355 356 357 358 359 360\n",
      " 361 362 363 364 365 366 367 368 369 370 371 372 373 374 375 376 377 378\n",
      " 379 380 381 382 383 384 385 386 387 388 389 390 391 392 393 394 395 396\n",
      " 397 398 399 400 401 402 403 404 405 406 407 408 409 410 411 412 413 414\n",
      " 415 416 417 418 419 420 421 422 423 424 425 426 427 428 429 430 431 432\n",
      " 433 434 435 436 437 438 439 440 441 442 443 444 445 446 447 448 449 450\n",
      " 451 452 453 454 455 456 457 458 459 460 461 462 463 464 465 466 467 468\n",
      " 469 470 471 472 473 474 475 476 477 478 479 480 481 482 483 484 485 486\n",
      " 487 488 489 490 491 492 493 494 495 496 497 498 499 500 501 502 503 504\n",
      " 505 506 507 508 509 510 511 512 513 514 515 516 517 518 519 520 521 522\n",
      " 523 524 525 526 527 528 529 530 531 532 533 534 535 536 537 538 539 540\n",
      " 541 542 543 544 545 546 547 548 549 550 551 552 553 554 555 556 557 558\n",
      " 559]\n",
      "Gender ['Male' 'Female']\n",
      "Age [27 28 29 30 31 32 33 34 35 36 37 38 39 40 41 42 43 44 45 48 49 50 51 52\n",
      " 53 54 55 56 57 58 59]\n",
      "Occupation ['Software Engineer' 'Doctor' 'Sales Representative' 'Teacher' 'Nurse'\n",
      " 'Engineer' 'Accountant' 'Scientist' 'Lawyer' 'Salesperson' 'Manager']\n",
      "Sleep Duration [6.1 6.2 5.9 6.3 7.8 6.  6.5 7.6 7.7 7.9 6.4 7.5 7.2 5.8 6.7 7.3 7.4 7.1\n",
      " 6.6 6.9 8.  6.8 8.1 8.3 8.5 8.4 8.2]\n",
      "Quality of Sleep [6 4 7 5 8 9]\n",
      "Physical Activity Level [42 60 30 40 75 35 45 50 32 70 80 55 90 47 65 85]\n",
      "Stress Level [6 8 7 4 3 5]\n",
      "BMI Category ['Overweight' 'Normal' 'Obese' 'Normal Weight']\n",
      "Blood Pressure ['126/83' '125/80' '140/90' '120/80' '132/87' '130/86' '117/76' '118/76'\n",
      " '128/85' '131/86' '128/84' '115/75' '135/88' '129/84' '130/85' '115/78'\n",
      " '119/77' '121/79' '125/82' '135/90' '122/80' '142/92' '140/95' '139/91'\n",
      " '118/75']\n",
      "Heart Rate [77 75 85 82 70 80 78 69 72 68 76 81 65 84 74 67 73 83 86]\n",
      "Daily Steps [ 4200 10000  3000  3500  8000  4000  4100  6800  5000  7000  5500  5200\n",
      "  5600  3300  4800  7500  7300  6200  6000  3700]\n",
      "Sleep Disorder [nan 'Sleep Apnea' 'Insomnia']\n"
     ]
    }
   ],
   "source": [
    "# print the columns and their allowable values\n",
    "for col in df.columns:\n",
    "    print(col, df[col].unique())\n",
    "    "
   ]
  },
  {
   "cell_type": "code",
   "execution_count": 10,
   "metadata": {
    "id": "YKCZtiWdKazM"
   },
   "outputs": [
    {
     "data": {
      "text/html": [
       "<div>\n",
       "<style scoped>\n",
       "    .dataframe tbody tr th:only-of-type {\n",
       "        vertical-align: middle;\n",
       "    }\n",
       "\n",
       "    .dataframe tbody tr th {\n",
       "        vertical-align: top;\n",
       "    }\n",
       "\n",
       "    .dataframe thead th {\n",
       "        text-align: right;\n",
       "    }\n",
       "</style>\n",
       "<table border=\"1\" class=\"dataframe\">\n",
       "  <thead>\n",
       "    <tr style=\"text-align: right;\">\n",
       "      <th></th>\n",
       "      <th>Gender</th>\n",
       "      <th>Age</th>\n",
       "      <th>Occupation</th>\n",
       "      <th>Sleep Duration</th>\n",
       "      <th>Quality of Sleep</th>\n",
       "      <th>Physical Activity Level</th>\n",
       "      <th>Stress Level</th>\n",
       "      <th>BMI Category</th>\n",
       "      <th>Blood Pressure</th>\n",
       "      <th>Heart Rate</th>\n",
       "      <th>Daily Steps</th>\n",
       "      <th>Sleep Disorder</th>\n",
       "    </tr>\n",
       "  </thead>\n",
       "  <tbody>\n",
       "    <tr>\n",
       "      <th>0</th>\n",
       "      <td>Male</td>\n",
       "      <td>27</td>\n",
       "      <td>Software Engineer</td>\n",
       "      <td>6.1</td>\n",
       "      <td>6</td>\n",
       "      <td>42</td>\n",
       "      <td>6</td>\n",
       "      <td>Overweight</td>\n",
       "      <td>126/83</td>\n",
       "      <td>77</td>\n",
       "      <td>4200</td>\n",
       "      <td>None</td>\n",
       "    </tr>\n",
       "    <tr>\n",
       "      <th>1</th>\n",
       "      <td>Male</td>\n",
       "      <td>28</td>\n",
       "      <td>Doctor</td>\n",
       "      <td>6.2</td>\n",
       "      <td>6</td>\n",
       "      <td>60</td>\n",
       "      <td>8</td>\n",
       "      <td>Normal</td>\n",
       "      <td>125/80</td>\n",
       "      <td>75</td>\n",
       "      <td>10000</td>\n",
       "      <td>None</td>\n",
       "    </tr>\n",
       "    <tr>\n",
       "      <th>2</th>\n",
       "      <td>Male</td>\n",
       "      <td>28</td>\n",
       "      <td>Doctor</td>\n",
       "      <td>6.2</td>\n",
       "      <td>6</td>\n",
       "      <td>60</td>\n",
       "      <td>8</td>\n",
       "      <td>Normal</td>\n",
       "      <td>125/80</td>\n",
       "      <td>75</td>\n",
       "      <td>10000</td>\n",
       "      <td>None</td>\n",
       "    </tr>\n",
       "    <tr>\n",
       "      <th>3</th>\n",
       "      <td>Male</td>\n",
       "      <td>28</td>\n",
       "      <td>Sales Representative</td>\n",
       "      <td>5.9</td>\n",
       "      <td>4</td>\n",
       "      <td>30</td>\n",
       "      <td>8</td>\n",
       "      <td>Obese</td>\n",
       "      <td>140/90</td>\n",
       "      <td>85</td>\n",
       "      <td>3000</td>\n",
       "      <td>Sleep Apnea</td>\n",
       "    </tr>\n",
       "    <tr>\n",
       "      <th>4</th>\n",
       "      <td>Male</td>\n",
       "      <td>28</td>\n",
       "      <td>Sales Representative</td>\n",
       "      <td>5.9</td>\n",
       "      <td>4</td>\n",
       "      <td>30</td>\n",
       "      <td>8</td>\n",
       "      <td>Obese</td>\n",
       "      <td>140/90</td>\n",
       "      <td>85</td>\n",
       "      <td>3000</td>\n",
       "      <td>Sleep Apnea</td>\n",
       "    </tr>\n",
       "    <tr>\n",
       "      <th>...</th>\n",
       "      <td>...</td>\n",
       "      <td>...</td>\n",
       "      <td>...</td>\n",
       "      <td>...</td>\n",
       "      <td>...</td>\n",
       "      <td>...</td>\n",
       "      <td>...</td>\n",
       "      <td>...</td>\n",
       "      <td>...</td>\n",
       "      <td>...</td>\n",
       "      <td>...</td>\n",
       "      <td>...</td>\n",
       "    </tr>\n",
       "    <tr>\n",
       "      <th>181</th>\n",
       "      <td>Female</td>\n",
       "      <td>43</td>\n",
       "      <td>Teacher</td>\n",
       "      <td>6.7</td>\n",
       "      <td>7</td>\n",
       "      <td>45</td>\n",
       "      <td>4</td>\n",
       "      <td>Overweight</td>\n",
       "      <td>135/90</td>\n",
       "      <td>65</td>\n",
       "      <td>6000</td>\n",
       "      <td>Insomnia</td>\n",
       "    </tr>\n",
       "    <tr>\n",
       "      <th>182</th>\n",
       "      <td>Male</td>\n",
       "      <td>43</td>\n",
       "      <td>Salesperson</td>\n",
       "      <td>6.5</td>\n",
       "      <td>6</td>\n",
       "      <td>45</td>\n",
       "      <td>7</td>\n",
       "      <td>Overweight</td>\n",
       "      <td>130/85</td>\n",
       "      <td>72</td>\n",
       "      <td>6000</td>\n",
       "      <td>Insomnia</td>\n",
       "    </tr>\n",
       "    <tr>\n",
       "      <th>183</th>\n",
       "      <td>Female</td>\n",
       "      <td>43</td>\n",
       "      <td>Teacher</td>\n",
       "      <td>6.7</td>\n",
       "      <td>7</td>\n",
       "      <td>45</td>\n",
       "      <td>4</td>\n",
       "      <td>Overweight</td>\n",
       "      <td>135/90</td>\n",
       "      <td>65</td>\n",
       "      <td>6000</td>\n",
       "      <td>Insomnia</td>\n",
       "    </tr>\n",
       "    <tr>\n",
       "      <th>184</th>\n",
       "      <td>Male</td>\n",
       "      <td>43</td>\n",
       "      <td>Salesperson</td>\n",
       "      <td>6.4</td>\n",
       "      <td>6</td>\n",
       "      <td>45</td>\n",
       "      <td>7</td>\n",
       "      <td>Overweight</td>\n",
       "      <td>130/85</td>\n",
       "      <td>72</td>\n",
       "      <td>6000</td>\n",
       "      <td>Insomnia</td>\n",
       "    </tr>\n",
       "    <tr>\n",
       "      <th>185</th>\n",
       "      <td>Male</td>\n",
       "      <td>43</td>\n",
       "      <td>Salesperson</td>\n",
       "      <td>6.5</td>\n",
       "      <td>6</td>\n",
       "      <td>45</td>\n",
       "      <td>7</td>\n",
       "      <td>Overweight</td>\n",
       "      <td>130/85</td>\n",
       "      <td>72</td>\n",
       "      <td>6000</td>\n",
       "      <td>Insomnia</td>\n",
       "    </tr>\n",
       "  </tbody>\n",
       "</table>\n",
       "<p>560 rows × 12 columns</p>\n",
       "</div>"
      ],
      "text/plain": [
       "     Gender  Age            Occupation  Sleep Duration  Quality of Sleep  \\\n",
       "0      Male   27     Software Engineer             6.1                 6   \n",
       "1      Male   28                Doctor             6.2                 6   \n",
       "2      Male   28                Doctor             6.2                 6   \n",
       "3      Male   28  Sales Representative             5.9                 4   \n",
       "4      Male   28  Sales Representative             5.9                 4   \n",
       "..      ...  ...                   ...             ...               ...   \n",
       "181  Female   43               Teacher             6.7                 7   \n",
       "182    Male   43           Salesperson             6.5                 6   \n",
       "183  Female   43               Teacher             6.7                 7   \n",
       "184    Male   43           Salesperson             6.4                 6   \n",
       "185    Male   43           Salesperson             6.5                 6   \n",
       "\n",
       "     Physical Activity Level  Stress Level BMI Category Blood Pressure  \\\n",
       "0                         42             6   Overweight         126/83   \n",
       "1                         60             8       Normal         125/80   \n",
       "2                         60             8       Normal         125/80   \n",
       "3                         30             8        Obese         140/90   \n",
       "4                         30             8        Obese         140/90   \n",
       "..                       ...           ...          ...            ...   \n",
       "181                       45             4   Overweight         135/90   \n",
       "182                       45             7   Overweight         130/85   \n",
       "183                       45             4   Overweight         135/90   \n",
       "184                       45             7   Overweight         130/85   \n",
       "185                       45             7   Overweight         130/85   \n",
       "\n",
       "     Heart Rate  Daily Steps Sleep Disorder  \n",
       "0            77         4200           None  \n",
       "1            75        10000           None  \n",
       "2            75        10000           None  \n",
       "3            85         3000    Sleep Apnea  \n",
       "4            85         3000    Sleep Apnea  \n",
       "..          ...          ...            ...  \n",
       "181          65         6000       Insomnia  \n",
       "182          72         6000       Insomnia  \n",
       "183          65         6000       Insomnia  \n",
       "184          72         6000       Insomnia  \n",
       "185          72         6000       Insomnia  \n",
       "\n",
       "[560 rows x 12 columns]"
      ]
     },
     "execution_count": 10,
     "metadata": {},
     "output_type": "execute_result"
    }
   ],
   "source": [
    "df"
   ]
  },
  {
   "cell_type": "markdown",
   "metadata": {
    "id": "dBhPfVKPKazP"
   },
   "source": [
    "## Handling the 'Blood Pressure' column by splitting it into Diastolic Pressure and Systolic Pressure"
   ]
  },
  {
   "cell_type": "code",
   "execution_count": 11,
   "metadata": {
    "id": "qMvaTkihKazP"
   },
   "outputs": [],
   "source": [
    "lowRow = []\n",
    "highRow = []\n",
    "\n",
    "\n",
    "for val in df['Blood Pressure']:\n",
    "    sp = val.split('/')\n",
    "\n",
    "    highRow.append(int(sp[0]))\n",
    "    lowRow.append(int(sp[1]))\n",
    "\n",
    "df['Diastolic Pressure'] = np.array(lowRow)\n",
    "df['Systolic Pressure'] = np.array(highRow)\n"
   ]
  },
  {
   "cell_type": "code",
   "execution_count": 12,
   "metadata": {
    "id": "lJmLzLhXKazS"
   },
   "outputs": [],
   "source": [
    "df = df.drop('Blood Pressure', axis = 1)"
   ]
  },
  {
   "cell_type": "code",
   "execution_count": 13,
   "metadata": {
    "id": "yQmhjZzmKazY"
   },
   "outputs": [
    {
     "data": {
      "text/html": [
       "<div>\n",
       "<style scoped>\n",
       "    .dataframe tbody tr th:only-of-type {\n",
       "        vertical-align: middle;\n",
       "    }\n",
       "\n",
       "    .dataframe tbody tr th {\n",
       "        vertical-align: top;\n",
       "    }\n",
       "\n",
       "    .dataframe thead th {\n",
       "        text-align: right;\n",
       "    }\n",
       "</style>\n",
       "<table border=\"1\" class=\"dataframe\">\n",
       "  <thead>\n",
       "    <tr style=\"text-align: right;\">\n",
       "      <th></th>\n",
       "      <th>Gender</th>\n",
       "      <th>Age</th>\n",
       "      <th>Occupation</th>\n",
       "      <th>Sleep Duration</th>\n",
       "      <th>Quality of Sleep</th>\n",
       "      <th>Physical Activity Level</th>\n",
       "      <th>Stress Level</th>\n",
       "      <th>BMI Category</th>\n",
       "      <th>Heart Rate</th>\n",
       "      <th>Daily Steps</th>\n",
       "      <th>Sleep Disorder</th>\n",
       "      <th>Diastolic Pressure</th>\n",
       "      <th>Systolic Pressure</th>\n",
       "    </tr>\n",
       "  </thead>\n",
       "  <tbody>\n",
       "    <tr>\n",
       "      <th>0</th>\n",
       "      <td>Male</td>\n",
       "      <td>27</td>\n",
       "      <td>Software Engineer</td>\n",
       "      <td>6.1</td>\n",
       "      <td>6</td>\n",
       "      <td>42</td>\n",
       "      <td>6</td>\n",
       "      <td>Overweight</td>\n",
       "      <td>77</td>\n",
       "      <td>4200</td>\n",
       "      <td>None</td>\n",
       "      <td>83</td>\n",
       "      <td>126</td>\n",
       "    </tr>\n",
       "    <tr>\n",
       "      <th>1</th>\n",
       "      <td>Male</td>\n",
       "      <td>28</td>\n",
       "      <td>Doctor</td>\n",
       "      <td>6.2</td>\n",
       "      <td>6</td>\n",
       "      <td>60</td>\n",
       "      <td>8</td>\n",
       "      <td>Normal</td>\n",
       "      <td>75</td>\n",
       "      <td>10000</td>\n",
       "      <td>None</td>\n",
       "      <td>80</td>\n",
       "      <td>125</td>\n",
       "    </tr>\n",
       "    <tr>\n",
       "      <th>2</th>\n",
       "      <td>Male</td>\n",
       "      <td>28</td>\n",
       "      <td>Doctor</td>\n",
       "      <td>6.2</td>\n",
       "      <td>6</td>\n",
       "      <td>60</td>\n",
       "      <td>8</td>\n",
       "      <td>Normal</td>\n",
       "      <td>75</td>\n",
       "      <td>10000</td>\n",
       "      <td>None</td>\n",
       "      <td>80</td>\n",
       "      <td>125</td>\n",
       "    </tr>\n",
       "    <tr>\n",
       "      <th>3</th>\n",
       "      <td>Male</td>\n",
       "      <td>28</td>\n",
       "      <td>Sales Representative</td>\n",
       "      <td>5.9</td>\n",
       "      <td>4</td>\n",
       "      <td>30</td>\n",
       "      <td>8</td>\n",
       "      <td>Obese</td>\n",
       "      <td>85</td>\n",
       "      <td>3000</td>\n",
       "      <td>Sleep Apnea</td>\n",
       "      <td>90</td>\n",
       "      <td>140</td>\n",
       "    </tr>\n",
       "    <tr>\n",
       "      <th>4</th>\n",
       "      <td>Male</td>\n",
       "      <td>28</td>\n",
       "      <td>Sales Representative</td>\n",
       "      <td>5.9</td>\n",
       "      <td>4</td>\n",
       "      <td>30</td>\n",
       "      <td>8</td>\n",
       "      <td>Obese</td>\n",
       "      <td>85</td>\n",
       "      <td>3000</td>\n",
       "      <td>Sleep Apnea</td>\n",
       "      <td>90</td>\n",
       "      <td>140</td>\n",
       "    </tr>\n",
       "    <tr>\n",
       "      <th>...</th>\n",
       "      <td>...</td>\n",
       "      <td>...</td>\n",
       "      <td>...</td>\n",
       "      <td>...</td>\n",
       "      <td>...</td>\n",
       "      <td>...</td>\n",
       "      <td>...</td>\n",
       "      <td>...</td>\n",
       "      <td>...</td>\n",
       "      <td>...</td>\n",
       "      <td>...</td>\n",
       "      <td>...</td>\n",
       "      <td>...</td>\n",
       "    </tr>\n",
       "    <tr>\n",
       "      <th>181</th>\n",
       "      <td>Female</td>\n",
       "      <td>43</td>\n",
       "      <td>Teacher</td>\n",
       "      <td>6.7</td>\n",
       "      <td>7</td>\n",
       "      <td>45</td>\n",
       "      <td>4</td>\n",
       "      <td>Overweight</td>\n",
       "      <td>65</td>\n",
       "      <td>6000</td>\n",
       "      <td>Insomnia</td>\n",
       "      <td>90</td>\n",
       "      <td>135</td>\n",
       "    </tr>\n",
       "    <tr>\n",
       "      <th>182</th>\n",
       "      <td>Male</td>\n",
       "      <td>43</td>\n",
       "      <td>Salesperson</td>\n",
       "      <td>6.5</td>\n",
       "      <td>6</td>\n",
       "      <td>45</td>\n",
       "      <td>7</td>\n",
       "      <td>Overweight</td>\n",
       "      <td>72</td>\n",
       "      <td>6000</td>\n",
       "      <td>Insomnia</td>\n",
       "      <td>85</td>\n",
       "      <td>130</td>\n",
       "    </tr>\n",
       "    <tr>\n",
       "      <th>183</th>\n",
       "      <td>Female</td>\n",
       "      <td>43</td>\n",
       "      <td>Teacher</td>\n",
       "      <td>6.7</td>\n",
       "      <td>7</td>\n",
       "      <td>45</td>\n",
       "      <td>4</td>\n",
       "      <td>Overweight</td>\n",
       "      <td>65</td>\n",
       "      <td>6000</td>\n",
       "      <td>Insomnia</td>\n",
       "      <td>90</td>\n",
       "      <td>135</td>\n",
       "    </tr>\n",
       "    <tr>\n",
       "      <th>184</th>\n",
       "      <td>Male</td>\n",
       "      <td>43</td>\n",
       "      <td>Salesperson</td>\n",
       "      <td>6.4</td>\n",
       "      <td>6</td>\n",
       "      <td>45</td>\n",
       "      <td>7</td>\n",
       "      <td>Overweight</td>\n",
       "      <td>72</td>\n",
       "      <td>6000</td>\n",
       "      <td>Insomnia</td>\n",
       "      <td>85</td>\n",
       "      <td>130</td>\n",
       "    </tr>\n",
       "    <tr>\n",
       "      <th>185</th>\n",
       "      <td>Male</td>\n",
       "      <td>43</td>\n",
       "      <td>Salesperson</td>\n",
       "      <td>6.5</td>\n",
       "      <td>6</td>\n",
       "      <td>45</td>\n",
       "      <td>7</td>\n",
       "      <td>Overweight</td>\n",
       "      <td>72</td>\n",
       "      <td>6000</td>\n",
       "      <td>Insomnia</td>\n",
       "      <td>85</td>\n",
       "      <td>130</td>\n",
       "    </tr>\n",
       "  </tbody>\n",
       "</table>\n",
       "<p>560 rows × 13 columns</p>\n",
       "</div>"
      ],
      "text/plain": [
       "     Gender  Age            Occupation  Sleep Duration  Quality of Sleep  \\\n",
       "0      Male   27     Software Engineer             6.1                 6   \n",
       "1      Male   28                Doctor             6.2                 6   \n",
       "2      Male   28                Doctor             6.2                 6   \n",
       "3      Male   28  Sales Representative             5.9                 4   \n",
       "4      Male   28  Sales Representative             5.9                 4   \n",
       "..      ...  ...                   ...             ...               ...   \n",
       "181  Female   43               Teacher             6.7                 7   \n",
       "182    Male   43           Salesperson             6.5                 6   \n",
       "183  Female   43               Teacher             6.7                 7   \n",
       "184    Male   43           Salesperson             6.4                 6   \n",
       "185    Male   43           Salesperson             6.5                 6   \n",
       "\n",
       "     Physical Activity Level  Stress Level BMI Category  Heart Rate  \\\n",
       "0                         42             6   Overweight          77   \n",
       "1                         60             8       Normal          75   \n",
       "2                         60             8       Normal          75   \n",
       "3                         30             8        Obese          85   \n",
       "4                         30             8        Obese          85   \n",
       "..                       ...           ...          ...         ...   \n",
       "181                       45             4   Overweight          65   \n",
       "182                       45             7   Overweight          72   \n",
       "183                       45             4   Overweight          65   \n",
       "184                       45             7   Overweight          72   \n",
       "185                       45             7   Overweight          72   \n",
       "\n",
       "     Daily Steps Sleep Disorder  Diastolic Pressure  Systolic Pressure  \n",
       "0           4200           None                  83                126  \n",
       "1          10000           None                  80                125  \n",
       "2          10000           None                  80                125  \n",
       "3           3000    Sleep Apnea                  90                140  \n",
       "4           3000    Sleep Apnea                  90                140  \n",
       "..           ...            ...                 ...                ...  \n",
       "181         6000       Insomnia                  90                135  \n",
       "182         6000       Insomnia                  85                130  \n",
       "183         6000       Insomnia                  90                135  \n",
       "184         6000       Insomnia                  85                130  \n",
       "185         6000       Insomnia                  85                130  \n",
       "\n",
       "[560 rows x 13 columns]"
      ]
     },
     "execution_count": 13,
     "metadata": {},
     "output_type": "execute_result"
    }
   ],
   "source": [
    "df"
   ]
  },
  {
   "cell_type": "markdown",
   "metadata": {
    "id": "WqRO7w5OKazc"
   },
   "source": [
    "## Using LabelEncoders to Encode the Categorical Data\n",
    "#### We also store a dictionay of encoders so that we can also Transform the unseen data into the same format"
   ]
  },
  {
   "cell_type": "code",
   "execution_count": 14,
   "metadata": {
    "id": "xmI_czfpKazd"
   },
   "outputs": [],
   "source": [
    "from sklearn.preprocessing import LabelEncoder"
   ]
  },
  {
   "cell_type": "code",
   "execution_count": 15,
   "metadata": {
    "id": "GzZFDf6aKazd"
   },
   "outputs": [
    {
     "name": "stdout",
     "output_type": "stream",
     "text": [
      "categorical features are : ['Gender', 'Occupation', 'BMI Category', 'Sleep Disorder']\n"
     ]
    }
   ],
   "source": [
    "catData = [key for key in df if (df[key].dtype == object)]\n",
    "numData = [key for key in df if (df[key].dtype != object and key != 'Stress Level')]\n",
    "print('categorical features are :',catData)"
   ]
  },
  {
   "cell_type": "code",
   "execution_count": 16,
   "metadata": {
    "id": "rPFmJhPMKaze"
   },
   "outputs": [
    {
     "data": {
      "text/html": [
       "<div>\n",
       "<style scoped>\n",
       "    .dataframe tbody tr th:only-of-type {\n",
       "        vertical-align: middle;\n",
       "    }\n",
       "\n",
       "    .dataframe tbody tr th {\n",
       "        vertical-align: top;\n",
       "    }\n",
       "\n",
       "    .dataframe thead th {\n",
       "        text-align: right;\n",
       "    }\n",
       "</style>\n",
       "<table border=\"1\" class=\"dataframe\">\n",
       "  <thead>\n",
       "    <tr style=\"text-align: right;\">\n",
       "      <th></th>\n",
       "      <th>Gender</th>\n",
       "      <th>Age</th>\n",
       "      <th>Occupation</th>\n",
       "      <th>Sleep Duration</th>\n",
       "      <th>Quality of Sleep</th>\n",
       "      <th>Physical Activity Level</th>\n",
       "      <th>Stress Level</th>\n",
       "      <th>BMI Category</th>\n",
       "      <th>Heart Rate</th>\n",
       "      <th>Daily Steps</th>\n",
       "      <th>Sleep Disorder</th>\n",
       "      <th>Diastolic Pressure</th>\n",
       "      <th>Systolic Pressure</th>\n",
       "    </tr>\n",
       "  </thead>\n",
       "  <tbody>\n",
       "    <tr>\n",
       "      <th>0</th>\n",
       "      <td>1</td>\n",
       "      <td>27</td>\n",
       "      <td>9</td>\n",
       "      <td>6.1</td>\n",
       "      <td>6</td>\n",
       "      <td>42</td>\n",
       "      <td>6</td>\n",
       "      <td>3</td>\n",
       "      <td>77</td>\n",
       "      <td>4200</td>\n",
       "      <td>1</td>\n",
       "      <td>83</td>\n",
       "      <td>126</td>\n",
       "    </tr>\n",
       "    <tr>\n",
       "      <th>1</th>\n",
       "      <td>1</td>\n",
       "      <td>28</td>\n",
       "      <td>1</td>\n",
       "      <td>6.2</td>\n",
       "      <td>6</td>\n",
       "      <td>60</td>\n",
       "      <td>8</td>\n",
       "      <td>0</td>\n",
       "      <td>75</td>\n",
       "      <td>10000</td>\n",
       "      <td>1</td>\n",
       "      <td>80</td>\n",
       "      <td>125</td>\n",
       "    </tr>\n",
       "    <tr>\n",
       "      <th>2</th>\n",
       "      <td>1</td>\n",
       "      <td>28</td>\n",
       "      <td>1</td>\n",
       "      <td>6.2</td>\n",
       "      <td>6</td>\n",
       "      <td>60</td>\n",
       "      <td>8</td>\n",
       "      <td>0</td>\n",
       "      <td>75</td>\n",
       "      <td>10000</td>\n",
       "      <td>1</td>\n",
       "      <td>80</td>\n",
       "      <td>125</td>\n",
       "    </tr>\n",
       "    <tr>\n",
       "      <th>3</th>\n",
       "      <td>1</td>\n",
       "      <td>28</td>\n",
       "      <td>6</td>\n",
       "      <td>5.9</td>\n",
       "      <td>4</td>\n",
       "      <td>30</td>\n",
       "      <td>8</td>\n",
       "      <td>2</td>\n",
       "      <td>85</td>\n",
       "      <td>3000</td>\n",
       "      <td>2</td>\n",
       "      <td>90</td>\n",
       "      <td>140</td>\n",
       "    </tr>\n",
       "    <tr>\n",
       "      <th>4</th>\n",
       "      <td>1</td>\n",
       "      <td>28</td>\n",
       "      <td>6</td>\n",
       "      <td>5.9</td>\n",
       "      <td>4</td>\n",
       "      <td>30</td>\n",
       "      <td>8</td>\n",
       "      <td>2</td>\n",
       "      <td>85</td>\n",
       "      <td>3000</td>\n",
       "      <td>2</td>\n",
       "      <td>90</td>\n",
       "      <td>140</td>\n",
       "    </tr>\n",
       "    <tr>\n",
       "      <th>...</th>\n",
       "      <td>...</td>\n",
       "      <td>...</td>\n",
       "      <td>...</td>\n",
       "      <td>...</td>\n",
       "      <td>...</td>\n",
       "      <td>...</td>\n",
       "      <td>...</td>\n",
       "      <td>...</td>\n",
       "      <td>...</td>\n",
       "      <td>...</td>\n",
       "      <td>...</td>\n",
       "      <td>...</td>\n",
       "      <td>...</td>\n",
       "    </tr>\n",
       "    <tr>\n",
       "      <th>181</th>\n",
       "      <td>0</td>\n",
       "      <td>43</td>\n",
       "      <td>10</td>\n",
       "      <td>6.7</td>\n",
       "      <td>7</td>\n",
       "      <td>45</td>\n",
       "      <td>4</td>\n",
       "      <td>3</td>\n",
       "      <td>65</td>\n",
       "      <td>6000</td>\n",
       "      <td>0</td>\n",
       "      <td>90</td>\n",
       "      <td>135</td>\n",
       "    </tr>\n",
       "    <tr>\n",
       "      <th>182</th>\n",
       "      <td>1</td>\n",
       "      <td>43</td>\n",
       "      <td>7</td>\n",
       "      <td>6.5</td>\n",
       "      <td>6</td>\n",
       "      <td>45</td>\n",
       "      <td>7</td>\n",
       "      <td>3</td>\n",
       "      <td>72</td>\n",
       "      <td>6000</td>\n",
       "      <td>0</td>\n",
       "      <td>85</td>\n",
       "      <td>130</td>\n",
       "    </tr>\n",
       "    <tr>\n",
       "      <th>183</th>\n",
       "      <td>0</td>\n",
       "      <td>43</td>\n",
       "      <td>10</td>\n",
       "      <td>6.7</td>\n",
       "      <td>7</td>\n",
       "      <td>45</td>\n",
       "      <td>4</td>\n",
       "      <td>3</td>\n",
       "      <td>65</td>\n",
       "      <td>6000</td>\n",
       "      <td>0</td>\n",
       "      <td>90</td>\n",
       "      <td>135</td>\n",
       "    </tr>\n",
       "    <tr>\n",
       "      <th>184</th>\n",
       "      <td>1</td>\n",
       "      <td>43</td>\n",
       "      <td>7</td>\n",
       "      <td>6.4</td>\n",
       "      <td>6</td>\n",
       "      <td>45</td>\n",
       "      <td>7</td>\n",
       "      <td>3</td>\n",
       "      <td>72</td>\n",
       "      <td>6000</td>\n",
       "      <td>0</td>\n",
       "      <td>85</td>\n",
       "      <td>130</td>\n",
       "    </tr>\n",
       "    <tr>\n",
       "      <th>185</th>\n",
       "      <td>1</td>\n",
       "      <td>43</td>\n",
       "      <td>7</td>\n",
       "      <td>6.5</td>\n",
       "      <td>6</td>\n",
       "      <td>45</td>\n",
       "      <td>7</td>\n",
       "      <td>3</td>\n",
       "      <td>72</td>\n",
       "      <td>6000</td>\n",
       "      <td>0</td>\n",
       "      <td>85</td>\n",
       "      <td>130</td>\n",
       "    </tr>\n",
       "  </tbody>\n",
       "</table>\n",
       "<p>560 rows × 13 columns</p>\n",
       "</div>"
      ],
      "text/plain": [
       "     Gender  Age  Occupation  Sleep Duration  Quality of Sleep  \\\n",
       "0         1   27           9             6.1                 6   \n",
       "1         1   28           1             6.2                 6   \n",
       "2         1   28           1             6.2                 6   \n",
       "3         1   28           6             5.9                 4   \n",
       "4         1   28           6             5.9                 4   \n",
       "..      ...  ...         ...             ...               ...   \n",
       "181       0   43          10             6.7                 7   \n",
       "182       1   43           7             6.5                 6   \n",
       "183       0   43          10             6.7                 7   \n",
       "184       1   43           7             6.4                 6   \n",
       "185       1   43           7             6.5                 6   \n",
       "\n",
       "     Physical Activity Level  Stress Level  BMI Category  Heart Rate  \\\n",
       "0                         42             6             3          77   \n",
       "1                         60             8             0          75   \n",
       "2                         60             8             0          75   \n",
       "3                         30             8             2          85   \n",
       "4                         30             8             2          85   \n",
       "..                       ...           ...           ...         ...   \n",
       "181                       45             4             3          65   \n",
       "182                       45             7             3          72   \n",
       "183                       45             4             3          65   \n",
       "184                       45             7             3          72   \n",
       "185                       45             7             3          72   \n",
       "\n",
       "     Daily Steps  Sleep Disorder  Diastolic Pressure  Systolic Pressure  \n",
       "0           4200               1                  83                126  \n",
       "1          10000               1                  80                125  \n",
       "2          10000               1                  80                125  \n",
       "3           3000               2                  90                140  \n",
       "4           3000               2                  90                140  \n",
       "..           ...             ...                 ...                ...  \n",
       "181         6000               0                  90                135  \n",
       "182         6000               0                  85                130  \n",
       "183         6000               0                  90                135  \n",
       "184         6000               0                  85                130  \n",
       "185         6000               0                  85                130  \n",
       "\n",
       "[560 rows x 13 columns]"
      ]
     },
     "execution_count": 16,
     "metadata": {},
     "output_type": "execute_result"
    }
   ],
   "source": [
    "label_encoding_dict = {}\n",
    "for category in catData:\n",
    "    labelEncoder = LabelEncoder()\n",
    "    labelEncoder.fit(df[category])\n",
    "    df[category] = labelEncoder.transform(df[category])\n",
    "    label_encoding_dict[category] = labelEncoder\n",
    "df"
   ]
  },
  {
   "cell_type": "markdown",
   "metadata": {
    "id": "vwAtSx_NKaze"
   },
   "source": [
    "# Distribution of target features"
   ]
  },
  {
   "cell_type": "code",
   "execution_count": 17,
   "metadata": {
    "id": "CT7jL9W3Kaze"
   },
   "outputs": [
    {
     "data": {
      "image/png": "[encoded data removed]",
      "text/plain": [
       "<Figure size 640x480 with 1 Axes>"
      ]
     },
     "metadata": {},
     "output_type": "display_data"
    }
   ],
   "source": [
    "import matplotlib.pyplot as plt\n",
    "count=df['Sleep Disorder'].value_counts()\n",
    "plt.bar(label_encoding_dict['Sleep Disorder'].inverse_transform(count.keys()),count)\n",
    "plt.xlabel('Sleep Disorder')\n",
    "plt.ylabel('Number of people')\n",
    "plt.show()"
   ]
  },
  {
   "cell_type": "markdown",
   "metadata": {
    "id": "6IqeiP2-Kazf"
   },
   "source": [
    "# Boxplot of Features"
   ]
  },
  {
   "cell_type": "code",
   "execution_count": 18,
   "metadata": {
    "id": "G0TPHq_zKazf"
   },
   "outputs": [
    {
     "data": {
      "image/png": "[encoded data removed]",
      "text/plain": [
       "<Figure size 1500x1000 with 12 Axes>"
      ]
     },
     "metadata": {},
     "output_type": "display_data"
    }
   ],
   "source": [
    "import matplotlib.pyplot as plt\n",
    "\n",
    "columns = ['Gender', 'Age', 'Occupation', 'Sleep Duration', 'Quality of Sleep', 'Physical Activity Level', 'BMI Category', 'Heart Rate', 'Daily Steps', 'Diastolic Pressure', 'Systolic Pressure']\n",
    "\n",
    "fig, axes = plt.subplots(nrows=3, ncols=4, figsize=(15, 10))\n",
    "\n",
    "for i, column in enumerate(columns):\n",
    "    ax = axes[i // 4, i % 4]\n",
    "    ax.boxplot(df[column])\n",
    "    ax.set_title(column)\n",
    "\n",
    "plt.tight_layout()\n",
    "plt.show()"
   ]
  },
  {
   "cell_type": "markdown",
   "metadata": {
    "id": "P8fNLA3kKazg"
   },
   "source": [
    "## Correlation analysis"
   ]
  },
  {
   "cell_type": "code",
   "execution_count": 19,
   "metadata": {
    "id": "5HZK_KqhKazg"
   },
   "outputs": [
    {
     "data": {
      "image/png": "[encoded data removed]",
      "text/plain": [
       "<Figure size 1000x800 with 2 Axes>"
      ]
     },
     "metadata": {},
     "output_type": "display_data"
    }
   ],
   "source": [
    "import seaborn as sns\n",
    "\n",
    "import matplotlib.pyplot as plt\n",
    "\n",
    "# Calculate the correlation matrix\n",
    "corr_matrix = df.corr()\n",
    "\n",
    "# Plot the correlation heatmap\n",
    "plt.figure(figsize=(10, 8))\n",
    "sns.heatmap(corr_matrix, annot=True, cmap='coolwarm')\n",
    "plt.title('Correlation Heatmap of Features')\n",
    "plt.show()"
   ]
  },
  {
   "cell_type": "markdown",
   "metadata": {
    "id": "yux4Rd-1Kazh"
   },
   "source": [
    "The correlation heatmap provides insights into the relationships between different features in the dataset\n",
    "From the above heatmap, we can see that :-\n",
    "- Systolic and Diastolic Pressures are highly correlated (+ve)\n",
    "- Quality of Sleep and Sleep duration (+ve )\n",
    "- Stress level and Quality of sleep / Sleep duaration (-ve)\n",
    "- Daily steps and physical activity level (+ve)"
   ]
  },
  {
   "cell_type": "markdown",
   "metadata": {
    "id": "1kYRqCyfKazk"
   },
   "source": [
    "# Standardisation of Data"
   ]
  },
  {
   "cell_type": "code",
   "execution_count": 20,
   "metadata": {
    "id": "-qvt1wUDKazl"
   },
   "outputs": [
    {
     "data": {
      "text/plain": [
       "['Age',\n",
       " 'Sleep Duration',\n",
       " 'Quality of Sleep',\n",
       " 'Physical Activity Level',\n",
       " 'Heart Rate',\n",
       " 'Daily Steps',\n",
       " 'Diastolic Pressure',\n",
       " 'Systolic Pressure']"
      ]
     },
     "execution_count": 20,
     "metadata": {},
     "output_type": "execute_result"
    }
   ],
   "source": [
    "numData"
   ]
  },
  {
   "cell_type": "code",
   "execution_count": 21,
   "metadata": {
    "id": "cGS5zg8eKazm"
   },
   "outputs": [
    {
     "data": {
      "text/html": [
       "<div>\n",
       "<style scoped>\n",
       "    .dataframe tbody tr th:only-of-type {\n",
       "        vertical-align: middle;\n",
       "    }\n",
       "\n",
       "    .dataframe tbody tr th {\n",
       "        vertical-align: top;\n",
       "    }\n",
       "\n",
       "    .dataframe thead th {\n",
       "        text-align: right;\n",
       "    }\n",
       "</style>\n",
       "<table border=\"1\" class=\"dataframe\">\n",
       "  <thead>\n",
       "    <tr style=\"text-align: right;\">\n",
       "      <th></th>\n",
       "      <th>Gender</th>\n",
       "      <th>Age</th>\n",
       "      <th>Occupation</th>\n",
       "      <th>Sleep Duration</th>\n",
       "      <th>Quality of Sleep</th>\n",
       "      <th>Physical Activity Level</th>\n",
       "      <th>Stress Level</th>\n",
       "      <th>BMI Category</th>\n",
       "      <th>Heart Rate</th>\n",
       "      <th>Daily Steps</th>\n",
       "      <th>Sleep Disorder</th>\n",
       "      <th>Diastolic Pressure</th>\n",
       "      <th>Systolic Pressure</th>\n",
       "    </tr>\n",
       "  </thead>\n",
       "  <tbody>\n",
       "    <tr>\n",
       "      <th>0</th>\n",
       "      <td>1</td>\n",
       "      <td>-1.602659</td>\n",
       "      <td>9</td>\n",
       "      <td>-1.369144</td>\n",
       "      <td>-1.124718</td>\n",
       "      <td>-0.842003</td>\n",
       "      <td>6</td>\n",
       "      <td>3</td>\n",
       "      <td>1.762740</td>\n",
       "      <td>-1.717495</td>\n",
       "      <td>1</td>\n",
       "      <td>-0.083242</td>\n",
       "      <td>-0.131326</td>\n",
       "    </tr>\n",
       "    <tr>\n",
       "      <th>1</th>\n",
       "      <td>1</td>\n",
       "      <td>-1.479581</td>\n",
       "      <td>1</td>\n",
       "      <td>-1.234372</td>\n",
       "      <td>-1.124718</td>\n",
       "      <td>0.060815</td>\n",
       "      <td>8</td>\n",
       "      <td>0</td>\n",
       "      <td>1.245916</td>\n",
       "      <td>2.083039</td>\n",
       "      <td>1</td>\n",
       "      <td>-0.603121</td>\n",
       "      <td>-0.263836</td>\n",
       "    </tr>\n",
       "    <tr>\n",
       "      <th>2</th>\n",
       "      <td>1</td>\n",
       "      <td>-1.479581</td>\n",
       "      <td>1</td>\n",
       "      <td>-1.234372</td>\n",
       "      <td>-1.124718</td>\n",
       "      <td>0.060815</td>\n",
       "      <td>8</td>\n",
       "      <td>0</td>\n",
       "      <td>1.245916</td>\n",
       "      <td>2.083039</td>\n",
       "      <td>1</td>\n",
       "      <td>-0.603121</td>\n",
       "      <td>-0.263836</td>\n",
       "    </tr>\n",
       "    <tr>\n",
       "      <th>3</th>\n",
       "      <td>1</td>\n",
       "      <td>-1.479581</td>\n",
       "      <td>6</td>\n",
       "      <td>-1.638689</td>\n",
       "      <td>-2.888981</td>\n",
       "      <td>-1.443882</td>\n",
       "      <td>8</td>\n",
       "      <td>2</td>\n",
       "      <td>3.830037</td>\n",
       "      <td>-2.503813</td>\n",
       "      <td>2</td>\n",
       "      <td>1.129807</td>\n",
       "      <td>1.723805</td>\n",
       "    </tr>\n",
       "    <tr>\n",
       "      <th>4</th>\n",
       "      <td>1</td>\n",
       "      <td>-1.479581</td>\n",
       "      <td>6</td>\n",
       "      <td>-1.638689</td>\n",
       "      <td>-2.888981</td>\n",
       "      <td>-1.443882</td>\n",
       "      <td>8</td>\n",
       "      <td>2</td>\n",
       "      <td>3.830037</td>\n",
       "      <td>-2.503813</td>\n",
       "      <td>2</td>\n",
       "      <td>1.129807</td>\n",
       "      <td>1.723805</td>\n",
       "    </tr>\n",
       "    <tr>\n",
       "      <th>...</th>\n",
       "      <td>...</td>\n",
       "      <td>...</td>\n",
       "      <td>...</td>\n",
       "      <td>...</td>\n",
       "      <td>...</td>\n",
       "      <td>...</td>\n",
       "      <td>...</td>\n",
       "      <td>...</td>\n",
       "      <td>...</td>\n",
       "      <td>...</td>\n",
       "      <td>...</td>\n",
       "      <td>...</td>\n",
       "      <td>...</td>\n",
       "    </tr>\n",
       "    <tr>\n",
       "      <th>181</th>\n",
       "      <td>0</td>\n",
       "      <td>0.366598</td>\n",
       "      <td>10</td>\n",
       "      <td>-0.560509</td>\n",
       "      <td>-0.242586</td>\n",
       "      <td>-0.691534</td>\n",
       "      <td>4</td>\n",
       "      <td>3</td>\n",
       "      <td>-1.338206</td>\n",
       "      <td>-0.538019</td>\n",
       "      <td>0</td>\n",
       "      <td>1.129807</td>\n",
       "      <td>1.061258</td>\n",
       "    </tr>\n",
       "    <tr>\n",
       "      <th>182</th>\n",
       "      <td>1</td>\n",
       "      <td>0.366598</td>\n",
       "      <td>7</td>\n",
       "      <td>-0.830054</td>\n",
       "      <td>-1.124718</td>\n",
       "      <td>-0.691534</td>\n",
       "      <td>7</td>\n",
       "      <td>3</td>\n",
       "      <td>0.470679</td>\n",
       "      <td>-0.538019</td>\n",
       "      <td>0</td>\n",
       "      <td>0.263343</td>\n",
       "      <td>0.398711</td>\n",
       "    </tr>\n",
       "    <tr>\n",
       "      <th>183</th>\n",
       "      <td>0</td>\n",
       "      <td>0.366598</td>\n",
       "      <td>10</td>\n",
       "      <td>-0.560509</td>\n",
       "      <td>-0.242586</td>\n",
       "      <td>-0.691534</td>\n",
       "      <td>4</td>\n",
       "      <td>3</td>\n",
       "      <td>-1.338206</td>\n",
       "      <td>-0.538019</td>\n",
       "      <td>0</td>\n",
       "      <td>1.129807</td>\n",
       "      <td>1.061258</td>\n",
       "    </tr>\n",
       "    <tr>\n",
       "      <th>184</th>\n",
       "      <td>1</td>\n",
       "      <td>0.366598</td>\n",
       "      <td>7</td>\n",
       "      <td>-0.964827</td>\n",
       "      <td>-1.124718</td>\n",
       "      <td>-0.691534</td>\n",
       "      <td>7</td>\n",
       "      <td>3</td>\n",
       "      <td>0.470679</td>\n",
       "      <td>-0.538019</td>\n",
       "      <td>0</td>\n",
       "      <td>0.263343</td>\n",
       "      <td>0.398711</td>\n",
       "    </tr>\n",
       "    <tr>\n",
       "      <th>185</th>\n",
       "      <td>1</td>\n",
       "      <td>0.366598</td>\n",
       "      <td>7</td>\n",
       "      <td>-0.830054</td>\n",
       "      <td>-1.124718</td>\n",
       "      <td>-0.691534</td>\n",
       "      <td>7</td>\n",
       "      <td>3</td>\n",
       "      <td>0.470679</td>\n",
       "      <td>-0.538019</td>\n",
       "      <td>0</td>\n",
       "      <td>0.263343</td>\n",
       "      <td>0.398711</td>\n",
       "    </tr>\n",
       "  </tbody>\n",
       "</table>\n",
       "<p>560 rows × 13 columns</p>\n",
       "</div>"
      ],
      "text/plain": [
       "     Gender       Age  Occupation  Sleep Duration  Quality of Sleep  \\\n",
       "0         1 -1.602659           9       -1.369144         -1.124718   \n",
       "1         1 -1.479581           1       -1.234372         -1.124718   \n",
       "2         1 -1.479581           1       -1.234372         -1.124718   \n",
       "3         1 -1.479581           6       -1.638689         -2.888981   \n",
       "4         1 -1.479581           6       -1.638689         -2.888981   \n",
       "..      ...       ...         ...             ...               ...   \n",
       "181       0  0.366598          10       -0.560509         -0.242586   \n",
       "182       1  0.366598           7       -0.830054         -1.124718   \n",
       "183       0  0.366598          10       -0.560509         -0.242586   \n",
       "184       1  0.366598           7       -0.964827         -1.124718   \n",
       "185       1  0.366598           7       -0.830054         -1.124718   \n",
       "\n",
       "     Physical Activity Level  Stress Level  BMI Category  Heart Rate  \\\n",
       "0                  -0.842003             6             3    1.762740   \n",
       "1                   0.060815             8             0    1.245916   \n",
       "2                   0.060815             8             0    1.245916   \n",
       "3                  -1.443882             8             2    3.830037   \n",
       "4                  -1.443882             8             2    3.830037   \n",
       "..                       ...           ...           ...         ...   \n",
       "181                -0.691534             4             3   -1.338206   \n",
       "182                -0.691534             7             3    0.470679   \n",
       "183                -0.691534             4             3   -1.338206   \n",
       "184                -0.691534             7             3    0.470679   \n",
       "185                -0.691534             7             3    0.470679   \n",
       "\n",
       "     Daily Steps  Sleep Disorder  Diastolic Pressure  Systolic Pressure  \n",
       "0      -1.717495               1           -0.083242          -0.131326  \n",
       "1       2.083039               1           -0.603121          -0.263836  \n",
       "2       2.083039               1           -0.603121          -0.263836  \n",
       "3      -2.503813               2            1.129807           1.723805  \n",
       "4      -2.503813               2            1.129807           1.723805  \n",
       "..           ...             ...                 ...                ...  \n",
       "181    -0.538019               0            1.129807           1.061258  \n",
       "182    -0.538019               0            0.263343           0.398711  \n",
       "183    -0.538019               0            1.129807           1.061258  \n",
       "184    -0.538019               0            0.263343           0.398711  \n",
       "185    -0.538019               0            0.263343           0.398711  \n",
       "\n",
       "[560 rows x 13 columns]"
      ]
     },
     "execution_count": 21,
     "metadata": {},
     "output_type": "execute_result"
    }
   ],
   "source": [
    "# Standardize the data\n",
    "from sklearn.preprocessing import StandardScaler\n",
    "for f in numData:\n",
    "    df[f] = StandardScaler().fit_transform(df[[f]])\n",
    "df"
   ]
  },
  {
   "cell_type": "markdown",
   "metadata": {
    "id": "S5P7TdZKKaz2"
   },
   "source": [
    "# Building Regression models for Stress level Prediction"
   ]
  },
  {
   "cell_type": "code",
   "execution_count": 22,
   "metadata": {
    "id": "wGKyvRHZKaz3"
   },
   "outputs": [],
   "source": [
    "from sklearn.preprocessing import PolynomialFeatures\n",
    "\n",
    "# Regression\n",
    "tgt1 = df['Stress Level']\n",
    "feat1 = df.drop(columns = ['Stress Level','Sleep Disorder'])\n"
   ]
  },
  {
   "cell_type": "code",
   "execution_count": 23,
   "metadata": {
    "id": "UHxUtFh_Kaz3"
   },
   "outputs": [
    {
     "data": {
      "text/html": [
       "<div>\n",
       "<style scoped>\n",
       "    .dataframe tbody tr th:only-of-type {\n",
       "        vertical-align: middle;\n",
       "    }\n",
       "\n",
       "    .dataframe tbody tr th {\n",
       "        vertical-align: top;\n",
       "    }\n",
       "\n",
       "    .dataframe thead th {\n",
       "        text-align: right;\n",
       "    }\n",
       "</style>\n",
       "<table border=\"1\" class=\"dataframe\">\n",
       "  <thead>\n",
       "    <tr style=\"text-align: right;\">\n",
       "      <th></th>\n",
       "      <th>Gender</th>\n",
       "      <th>Age</th>\n",
       "      <th>Occupation</th>\n",
       "      <th>Sleep Duration</th>\n",
       "      <th>Quality of Sleep</th>\n",
       "      <th>Physical Activity Level</th>\n",
       "      <th>BMI Category</th>\n",
       "      <th>Heart Rate</th>\n",
       "      <th>Daily Steps</th>\n",
       "      <th>Diastolic Pressure</th>\n",
       "      <th>Systolic Pressure</th>\n",
       "    </tr>\n",
       "  </thead>\n",
       "  <tbody>\n",
       "    <tr>\n",
       "      <th>0</th>\n",
       "      <td>1</td>\n",
       "      <td>-1.602659</td>\n",
       "      <td>9</td>\n",
       "      <td>-1.369144</td>\n",
       "      <td>-1.124718</td>\n",
       "      <td>-0.842003</td>\n",
       "      <td>3</td>\n",
       "      <td>1.762740</td>\n",
       "      <td>-1.717495</td>\n",
       "      <td>-0.083242</td>\n",
       "      <td>-0.131326</td>\n",
       "    </tr>\n",
       "    <tr>\n",
       "      <th>1</th>\n",
       "      <td>1</td>\n",
       "      <td>-1.479581</td>\n",
       "      <td>1</td>\n",
       "      <td>-1.234372</td>\n",
       "      <td>-1.124718</td>\n",
       "      <td>0.060815</td>\n",
       "      <td>0</td>\n",
       "      <td>1.245916</td>\n",
       "      <td>2.083039</td>\n",
       "      <td>-0.603121</td>\n",
       "      <td>-0.263836</td>\n",
       "    </tr>\n",
       "    <tr>\n",
       "      <th>2</th>\n",
       "      <td>1</td>\n",
       "      <td>-1.479581</td>\n",
       "      <td>1</td>\n",
       "      <td>-1.234372</td>\n",
       "      <td>-1.124718</td>\n",
       "      <td>0.060815</td>\n",
       "      <td>0</td>\n",
       "      <td>1.245916</td>\n",
       "      <td>2.083039</td>\n",
       "      <td>-0.603121</td>\n",
       "      <td>-0.263836</td>\n",
       "    </tr>\n",
       "    <tr>\n",
       "      <th>3</th>\n",
       "      <td>1</td>\n",
       "      <td>-1.479581</td>\n",
       "      <td>6</td>\n",
       "      <td>-1.638689</td>\n",
       "      <td>-2.888981</td>\n",
       "      <td>-1.443882</td>\n",
       "      <td>2</td>\n",
       "      <td>3.830037</td>\n",
       "      <td>-2.503813</td>\n",
       "      <td>1.129807</td>\n",
       "      <td>1.723805</td>\n",
       "    </tr>\n",
       "    <tr>\n",
       "      <th>4</th>\n",
       "      <td>1</td>\n",
       "      <td>-1.479581</td>\n",
       "      <td>6</td>\n",
       "      <td>-1.638689</td>\n",
       "      <td>-2.888981</td>\n",
       "      <td>-1.443882</td>\n",
       "      <td>2</td>\n",
       "      <td>3.830037</td>\n",
       "      <td>-2.503813</td>\n",
       "      <td>1.129807</td>\n",
       "      <td>1.723805</td>\n",
       "    </tr>\n",
       "    <tr>\n",
       "      <th>...</th>\n",
       "      <td>...</td>\n",
       "      <td>...</td>\n",
       "      <td>...</td>\n",
       "      <td>...</td>\n",
       "      <td>...</td>\n",
       "      <td>...</td>\n",
       "      <td>...</td>\n",
       "      <td>...</td>\n",
       "      <td>...</td>\n",
       "      <td>...</td>\n",
       "      <td>...</td>\n",
       "    </tr>\n",
       "    <tr>\n",
       "      <th>181</th>\n",
       "      <td>0</td>\n",
       "      <td>0.366598</td>\n",
       "      <td>10</td>\n",
       "      <td>-0.560509</td>\n",
       "      <td>-0.242586</td>\n",
       "      <td>-0.691534</td>\n",
       "      <td>3</td>\n",
       "      <td>-1.338206</td>\n",
       "      <td>-0.538019</td>\n",
       "      <td>1.129807</td>\n",
       "      <td>1.061258</td>\n",
       "    </tr>\n",
       "    <tr>\n",
       "      <th>182</th>\n",
       "      <td>1</td>\n",
       "      <td>0.366598</td>\n",
       "      <td>7</td>\n",
       "      <td>-0.830054</td>\n",
       "      <td>-1.124718</td>\n",
       "      <td>-0.691534</td>\n",
       "      <td>3</td>\n",
       "      <td>0.470679</td>\n",
       "      <td>-0.538019</td>\n",
       "      <td>0.263343</td>\n",
       "      <td>0.398711</td>\n",
       "    </tr>\n",
       "    <tr>\n",
       "      <th>183</th>\n",
       "      <td>0</td>\n",
       "      <td>0.366598</td>\n",
       "      <td>10</td>\n",
       "      <td>-0.560509</td>\n",
       "      <td>-0.242586</td>\n",
       "      <td>-0.691534</td>\n",
       "      <td>3</td>\n",
       "      <td>-1.338206</td>\n",
       "      <td>-0.538019</td>\n",
       "      <td>1.129807</td>\n",
       "      <td>1.061258</td>\n",
       "    </tr>\n",
       "    <tr>\n",
       "      <th>184</th>\n",
       "      <td>1</td>\n",
       "      <td>0.366598</td>\n",
       "      <td>7</td>\n",
       "      <td>-0.964827</td>\n",
       "      <td>-1.124718</td>\n",
       "      <td>-0.691534</td>\n",
       "      <td>3</td>\n",
       "      <td>0.470679</td>\n",
       "      <td>-0.538019</td>\n",
       "      <td>0.263343</td>\n",
       "      <td>0.398711</td>\n",
       "    </tr>\n",
       "    <tr>\n",
       "      <th>185</th>\n",
       "      <td>1</td>\n",
       "      <td>0.366598</td>\n",
       "      <td>7</td>\n",
       "      <td>-0.830054</td>\n",
       "      <td>-1.124718</td>\n",
       "      <td>-0.691534</td>\n",
       "      <td>3</td>\n",
       "      <td>0.470679</td>\n",
       "      <td>-0.538019</td>\n",
       "      <td>0.263343</td>\n",
       "      <td>0.398711</td>\n",
       "    </tr>\n",
       "  </tbody>\n",
       "</table>\n",
       "<p>560 rows × 11 columns</p>\n",
       "</div>"
      ],
      "text/plain": [
       "     Gender       Age  Occupation  Sleep Duration  Quality of Sleep  \\\n",
       "0         1 -1.602659           9       -1.369144         -1.124718   \n",
       "1         1 -1.479581           1       -1.234372         -1.124718   \n",
       "2         1 -1.479581           1       -1.234372         -1.124718   \n",
       "3         1 -1.479581           6       -1.638689         -2.888981   \n",
       "4         1 -1.479581           6       -1.638689         -2.888981   \n",
       "..      ...       ...         ...             ...               ...   \n",
       "181       0  0.366598          10       -0.560509         -0.242586   \n",
       "182       1  0.366598           7       -0.830054         -1.124718   \n",
       "183       0  0.366598          10       -0.560509         -0.242586   \n",
       "184       1  0.366598           7       -0.964827         -1.124718   \n",
       "185       1  0.366598           7       -0.830054         -1.124718   \n",
       "\n",
       "     Physical Activity Level  BMI Category  Heart Rate  Daily Steps  \\\n",
       "0                  -0.842003             3    1.762740    -1.717495   \n",
       "1                   0.060815             0    1.245916     2.083039   \n",
       "2                   0.060815             0    1.245916     2.083039   \n",
       "3                  -1.443882             2    3.830037    -2.503813   \n",
       "4                  -1.443882             2    3.830037    -2.503813   \n",
       "..                       ...           ...         ...          ...   \n",
       "181                -0.691534             3   -1.338206    -0.538019   \n",
       "182                -0.691534             3    0.470679    -0.538019   \n",
       "183                -0.691534             3   -1.338206    -0.538019   \n",
       "184                -0.691534             3    0.470679    -0.538019   \n",
       "185                -0.691534             3    0.470679    -0.538019   \n",
       "\n",
       "     Diastolic Pressure  Systolic Pressure  \n",
       "0             -0.083242          -0.131326  \n",
       "1             -0.603121          -0.263836  \n",
       "2             -0.603121          -0.263836  \n",
       "3              1.129807           1.723805  \n",
       "4              1.129807           1.723805  \n",
       "..                  ...                ...  \n",
       "181            1.129807           1.061258  \n",
       "182            0.263343           0.398711  \n",
       "183            1.129807           1.061258  \n",
       "184            0.263343           0.398711  \n",
       "185            0.263343           0.398711  \n",
       "\n",
       "[560 rows x 11 columns]"
      ]
     },
     "execution_count": 23,
     "metadata": {},
     "output_type": "execute_result"
    }
   ],
   "source": [
    "feat1"
   ]
  },
  {
   "cell_type": "code",
   "execution_count": 24,
   "metadata": {
    "id": "mmDRZg4qKaz4"
   },
   "outputs": [],
   "source": [
    "from sklearn.model_selection import train_test_split\n",
    "from sklearn.linear_model import LinearRegression\n",
    "from sklearn.metrics import r2_score, mean_squared_error"
   ]
  },
  {
   "cell_type": "code",
   "execution_count": 25,
   "metadata": {
    "id": "DJFApBcpKaz4"
   },
   "outputs": [
    {
     "data": {
      "text/plain": [
       "[0.9589391758935646,\n",
       " 0.8252580879848644,\n",
       " 0.9365664861391231,\n",
       " 0.38746335763191364]"
      ]
     },
     "execution_count": 25,
     "metadata": {},
     "output_type": "execute_result"
    }
   ],
   "source": [
    "scoreList = []\n",
    "\n",
    "for i in range(1, 5):\n",
    "\n",
    "    poly = PolynomialFeatures(i)\n",
    "    x = poly.fit_transform(feat1)\n",
    "\n",
    "    X_train, X_test, y_train, y_test = train_test_split(x, np.array(tgt1), random_state = 42)\n",
    "\n",
    "    model = LinearRegression()\n",
    "    model.fit(X_train,y_train)\n",
    "    pred = model.predict(X_test)\n",
    "\n",
    "    scoreList.append(r2_score(y_test, pred))\n",
    "\n",
    "scoreList"
   ]
  },
  {
   "cell_type": "code",
   "execution_count": 26,
   "metadata": {
    "id": "xFA9UF9SKaz5"
   },
   "outputs": [
    {
     "data": {
      "image/png": "[encoded data removed]",
      "text/plain": [
       "<Figure size 640x480 with 1 Axes>"
      ]
     },
     "metadata": {},
     "output_type": "display_data"
    }
   ],
   "source": [
    "xList = [i for i in range(1, 5)]\n",
    "\n",
    "plt.xlabel(\"Degree of polynomial feature\")\n",
    "plt.ylabel(\"R2 Score\")\n",
    "plt.title(\"Graph of Degree vs R2 Score\")\n",
    "plt.plot(xList, scoreList)\n",
    "plt.show()"
   ]
  },
  {
   "cell_type": "markdown",
   "metadata": {
    "id": "AokUApEgKaz5"
   },
   "source": [
    "# From the above plot, we select the degree of polynomial features as 3"
   ]
  },
  {
   "cell_type": "code",
   "execution_count": 27,
   "metadata": {
    "id": "9qxhgoyYKaz6"
   },
   "outputs": [
    {
     "name": "stdout",
     "output_type": "stream",
     "text": [
      "r2_score = 0.9365664861391231\n",
      "mean_squared_error = 0.18911925420716047\n"
     ]
    }
   ],
   "source": [
    "poly = PolynomialFeatures(3)\n",
    "x = poly.fit_transform(feat1)\n",
    "\n",
    "X_train, X_test, y_train, y_test = train_test_split(x, np.array(tgt1), random_state = 42)\n",
    "\n",
    "model = LinearRegression()\n",
    "model.fit(X_train,y_train)\n",
    "pred = model.predict(X_test)\n",
    "print('r2_score =',r2_score(y_test, pred))\n",
    "print('mean_squared_error =',mean_squared_error(y_test, pred))"
   ]
  },
  {
   "cell_type": "code",
   "execution_count": null,
   "metadata": {},
   "outputs": [],
   "source": []
  },
  {
   "cell_type": "markdown",
   "metadata": {
    "id": "klMCYLlpB-gj"
   },
   "source": [
    "## Classification"
   ]
  },
  {
   "cell_type": "code",
   "execution_count": 28,
   "metadata": {
    "id": "FM7cta2KKaz8"
   },
   "outputs": [],
   "source": [
    "X = df.drop(columns=['Stress Level','Sleep Disorder'])\n",
    "y = df['Sleep Disorder']"
   ]
  },
  {
   "cell_type": "markdown",
   "metadata": {
    "id": "jRqmKzmtKaz7"
   },
   "source": [
    "# Building Models for Classification of Sleep Disorders"
   ]
  },
  {
   "cell_type": "code",
   "execution_count": 29,
   "metadata": {
    "id": "XP9ehrNDKaz9"
   },
   "outputs": [],
   "source": [
    "from sklearn.model_selection import train_test_split\n",
    "\n",
    "X_train, X_test, y_train, y_test = train_test_split(\n",
    "    X, y, test_size=0.3, random_state=42)"
   ]
  },
  {
   "cell_type": "code",
   "execution_count": 30,
   "metadata": {
    "id": "c_7goQa6Kaz9"
   },
   "outputs": [
    {
     "name": "stdout",
     "output_type": "stream",
     "text": [
      "Classification Report               precision    recall  f1-score   support\n",
      "\n",
      "           0       0.92      0.89      0.91        27\n",
      "           1       0.96      0.99      0.98       111\n",
      "           2       0.93      0.87      0.90        30\n",
      "\n",
      "    accuracy                           0.95       168\n",
      "   macro avg       0.94      0.92      0.93       168\n",
      "weighted avg       0.95      0.95      0.95       168\n",
      "\n"
     ]
    }
   ],
   "source": [
    "from sklearn.svm import SVC\n",
    "from sklearn.metrics import classification_report\n",
    "clf = SVC(kernel ='linear')\n",
    " # training set in x, y axis\n",
    "clf.fit(X_train, y_train)\n",
    "y_pred = clf.predict(X_test)\n",
    "print('Classification Report',classification_report(y_test,y_pred))"
   ]
  },
  {
   "cell_type": "code",
   "execution_count": 31,
   "metadata": {
    "id": "luP04xA2Kaz_"
   },
   "outputs": [
    {
     "name": "stdout",
     "output_type": "stream",
     "text": [
      "Classification Report               precision    recall  f1-score   support\n",
      "\n",
      "           0       0.92      0.89      0.91        27\n",
      "           1       0.96      0.99      0.98       111\n",
      "           2       0.93      0.87      0.90        30\n",
      "\n",
      "    accuracy                           0.95       168\n",
      "   macro avg       0.94      0.92      0.93       168\n",
      "weighted avg       0.95      0.95      0.95       168\n",
      "\n"
     ]
    }
   ],
   "source": [
    "clf.fit(X_train, y_train)\n",
    "y_pred = clf.predict(X_test)\n",
    "print('Classification Report',classification_report(y_test,y_pred))"
   ]
  },
  {
   "cell_type": "markdown",
   "metadata": {
    "id": "Bwk4Hf6CQRH1"
   },
   "source": [
    "#Using over sampling method SMOTE to balance the data"
   ]
  },
  {
   "cell_type": "code",
   "execution_count": 32,
   "metadata": {
    "id": "w4gYxp88QNKO"
   },
   "outputs": [
    {
     "data": {
      "text/plain": [
       "Counter({1: 264, 0: 66, 2: 62})"
      ]
     },
     "execution_count": 32,
     "metadata": {},
     "output_type": "execute_result"
    }
   ],
   "source": [
    "from collections import Counter\n",
    "cc = Counter(y_train)\n",
    "\n",
    "# Checking for imbalanced data\n",
    "cc"
   ]
  },
  {
   "cell_type": "code",
   "execution_count": 33,
   "metadata": {},
   "outputs": [
    {
     "name": "stderr",
     "output_type": "stream",
     "text": [
      "\n",
      "[notice] A new release of pip is available: 24.2 -> 24.3.1\n",
      "[notice] To update, run: C:\\Python312\\python.exe -m pip install --upgrade pip\n"
     ]
    },
    {
     "name": "stdout",
     "output_type": "stream",
     "text": [
      "Defaulting to user installation because normal site-packages is not writeable\n",
      "Requirement already satisfied: imbalanced-learn in c:\\users\\vishn\\appdata\\roaming\\python\\python312\\site-packages (0.12.4)\n",
      "Requirement already satisfied: numpy>=1.17.3 in c:\\users\\vishn\\appdata\\roaming\\python\\python312\\site-packages (from imbalanced-learn) (2.1.3)\n",
      "Requirement already satisfied: scipy>=1.5.0 in c:\\users\\vishn\\appdata\\roaming\\python\\python312\\site-packages (from imbalanced-learn) (1.14.1)\n",
      "Requirement already satisfied: scikit-learn>=1.0.2 in c:\\users\\vishn\\appdata\\roaming\\python\\python312\\site-packages (from imbalanced-learn) (1.5.2)\n",
      "Requirement already satisfied: joblib>=1.1.1 in c:\\users\\vishn\\appdata\\roaming\\python\\python312\\site-packages (from imbalanced-learn) (1.4.2)\n",
      "Requirement already satisfied: threadpoolctl>=2.0.0 in c:\\users\\vishn\\appdata\\roaming\\python\\python312\\site-packages (from imbalanced-learn) (3.5.0)\n"
     ]
    }
   ],
   "source": [
    "!pip install imbalanced-learn"
   ]
  },
  {
   "cell_type": "code",
   "execution_count": 36,
   "metadata": {
    "id": "Loa8ZWOuQOJo"
   },
   "outputs": [
    {
     "ename": "ModuleNotFoundError",
     "evalue": "No module named 'imblearn'",
     "output_type": "error",
     "traceback": [
      "\u001b[1;31m---------------------------------------------------------------------------\u001b[0m",
      "\u001b[1;31mModuleNotFoundError\u001b[0m                       Traceback (most recent call last)",
      "Cell \u001b[1;32mIn[36], line 5\u001b[0m\n\u001b[0;32m      1\u001b[0m \u001b[38;5;66;03m# Bad news, we actually have a large amount of imbalanced data\u001b[39;00m\n\u001b[0;32m      2\u001b[0m \u001b[38;5;66;03m# So using a imbalanced learn method helps us to predict good observations\u001b[39;00m\n\u001b[0;32m      3\u001b[0m \u001b[38;5;66;03m# Using SMOTE: Synthetic Minority Oversampling Technique\u001b[39;00m\n\u001b[1;32m----> 5\u001b[0m \u001b[38;5;28;01mfrom\u001b[39;00m \u001b[38;5;21;01mimblearn\u001b[39;00m\u001b[38;5;21;01m.\u001b[39;00m\u001b[38;5;21;01mover_sampling\u001b[39;00m \u001b[38;5;28;01mimport\u001b[39;00m SMOTE\n\u001b[0;32m      7\u001b[0m sm \u001b[38;5;241m=\u001b[39m SMOTE(random_state \u001b[38;5;241m=\u001b[39m \u001b[38;5;241m42\u001b[39m)\n\u001b[0;32m      8\u001b[0m X_smote, y_smote \u001b[38;5;241m=\u001b[39m sm\u001b[38;5;241m.\u001b[39mfit_resample(X_train, y_train)\n",
      "\u001b[1;31mModuleNotFoundError\u001b[0m: No module named 'imblearn'"
     ]
    }
   ],
   "source": [
    "# Bad news, we actually have a large amount of imbalanced data\n",
    "# So using a imbalanced learn method helps us to predict good observations\n",
    "# Using SMOTE: Synthetic Minority Oversampling Technique\n",
    "\n",
    "from imblearn.over_sampling import SMOTE\n",
    "\n",
    "sm = SMOTE(random_state = 42)\n",
    "X_smote, y_smote = sm.fit_resample(X_train, y_train)\n"
   ]
  },
  {
   "cell_type": "code",
   "execution_count": null,
   "metadata": {
    "id": "oYfpJ4bFQqW2"
   },
   "outputs": [],
   "source": [
    "# Checking for balanced data in new target\n",
    "cc = Counter(y_smote)\n",
    "cc"
   ]
  },
  {
   "cell_type": "markdown",
   "metadata": {
    "id": "wznJoWHji95I"
   },
   "source": [
    "## Using Undersampling Method"
   ]
  },
  {
   "cell_type": "code",
   "execution_count": null,
   "metadata": {
    "id": "dbxE_jfOtzfX"
   },
   "outputs": [
    {
     "ename": "SyntaxError",
     "evalue": "invalid syntax (2761645355.py, line 1)",
     "output_type": "error",
     "traceback": [
      "\u001b[1;36m  Cell \u001b[1;32mIn[35], line 1\u001b[1;36m\u001b[0m\n\u001b[1;33m    from imbalanced-learn.under_sampling import ClusterCentroids\u001b[0m\n\u001b[1;37m                   ^\u001b[0m\n\u001b[1;31mSyntaxError\u001b[0m\u001b[1;31m:\u001b[0m invalid syntax\n"
     ]
    }
   ],
   "source": [
    "from imblearn.under_sampling import ClusterCentroids\n",
    "cc = ClusterCentroids(random_state=0)\n",
    "X_clc, y_clc = cc.fit_resample(X_train, y_train)\n"
   ]
  },
  {
   "cell_type": "code",
   "execution_count": null,
   "metadata": {
    "id": "tuLiBAEtcYg1"
   },
   "outputs": [
    {
     "ename": "ModuleNotFoundError",
     "evalue": "No module named 'imblearn'",
     "output_type": "error",
     "traceback": [
      "\u001b[1;31m---------------------------------------------------------------------------\u001b[0m",
      "\u001b[1;31mModuleNotFoundError\u001b[0m                       Traceback (most recent call last)",
      "Cell \u001b[1;32mIn[36], line 1\u001b[0m\n\u001b[1;32m----> 1\u001b[0m \u001b[38;5;28;01mfrom\u001b[39;00m \u001b[38;5;21;01mimblearn\u001b[39;00m\u001b[38;5;21;01m.\u001b[39;00m\u001b[38;5;21;01munder_sampling\u001b[39;00m \u001b[38;5;28;01mimport\u001b[39;00m InstanceHardnessThreshold\n\u001b[0;32m      3\u001b[0m clc \u001b[38;5;241m=\u001b[39m InstanceHardnessThreshold()\n\u001b[0;32m      4\u001b[0m X_clc, y_clc \u001b[38;5;241m=\u001b[39m clc\u001b[38;5;241m.\u001b[39mfit_resample(X_train, y_train)\n",
      "\u001b[1;31mModuleNotFoundError\u001b[0m: No module named 'imblearn'"
     ]
    }
   ],
   "source": [
    "from imblearn.under_sampling import InstanceHardnessThreshold\n",
    "\n",
    "clc = InstanceHardnessThreshold()\n",
    "X_clc, y_clc = clc.fit_resample(X_train, y_train)"
   ]
  },
  {
   "cell_type": "code",
   "execution_count": null,
   "metadata": {
    "id": "qwJzCRxCdOtt"
   },
   "outputs": [],
   "source": [
    "cc = Counter(y_clc)\n",
    "cc"
   ]
  },
  {
   "cell_type": "markdown",
   "metadata": {
    "id": "Vfm_Vo7xQNcy"
   },
   "source": [
    "# Using Randomized search CV"
   ]
  },
  {
   "cell_type": "markdown",
   "metadata": {
    "id": "ta7xuJQojXgl"
   },
   "source": [
    "## Intial Data"
   ]
  },
  {
   "cell_type": "code",
   "execution_count": null,
   "metadata": {
    "id": "FMdKCgRyP8zs"
   },
   "outputs": [],
   "source": [
    "from scipy.stats import uniform\n",
    "\n",
    "gammaValues = ['scale', 'auto']\n",
    "\n",
    "cvals = [1e-5, 1e-4, 1e-3, 0.01, 0.1, 1, 10]\n",
    "\n",
    "param_grid = {\n",
    "    'kernel': ['linear', 'rbf', 'poly'],\n",
    "    'C': uniform(1e-5, 10),\n",
    "    'degree': [i for i in range(1, 20)],\n",
    "    'gamma': gammaValues,\n",
    "    'decision_function_shape': ['ovo', 'ovr']\n",
    "}"
   ]
  },
  {
   "cell_type": "code",
   "execution_count": null,
   "metadata": {
    "id": "JYEEvCoxQC9I"
   },
   "outputs": [],
   "source": [
    "from sklearn.model_selection import RandomizedSearchCV\n",
    "\n",
    "base_clf = SVC()\n",
    "rand_clf = RandomizedSearchCV(base_clf, param_distributions = param_grid)\n",
    "\n",
    "rand_clf.fit(X_train, y_train)"
   ]
  },
  {
   "cell_type": "code",
   "execution_count": null,
   "metadata": {
    "id": "pfyot7PzQTBi"
   },
   "outputs": [],
   "source": [
    "rand_clf.best_params_"
   ]
  },
  {
   "cell_type": "code",
   "execution_count": null,
   "metadata": {
    "id": "K8BOpuB5QbKB"
   },
   "outputs": [],
   "source": [
    "# Printing the classification report for the randomized search hyper parameter tuned model\n",
    "\n",
    "y_pred = rand_clf.predict(X_test)\n",
    "\n",
    "print(\"The classification report after using randomized search CV\\n\", classification_report(y_test, y_pred))"
   ]
  },
  {
   "cell_type": "code",
   "execution_count": null,
   "metadata": {
    "id": "Wqh7VOtWQeWh"
   },
   "outputs": [],
   "source": [
    "# Printing the confusion matrix for the randomized search hyper parameter tuned model\n",
    "from sklearn.metrics import confusion_matrix\n",
    "confusion_matrix(y_test, y_pred)"
   ]
  },
  {
   "cell_type": "markdown",
   "metadata": {
    "id": "AO4TdGm6UNWF"
   },
   "source": [
    "# Randomized search CV for SMOTE"
   ]
  },
  {
   "cell_type": "code",
   "execution_count": null,
   "metadata": {
    "id": "8awzxGkDThnu"
   },
   "outputs": [],
   "source": [
    "base_clf = SVC()\n",
    "rand_clf = RandomizedSearchCV(base_clf, param_distributions = param_grid)\n",
    "\n",
    "rand_clf.fit(X_clc, y_clc)"
   ]
  },
  {
   "cell_type": "code",
   "execution_count": null,
   "metadata": {
    "id": "J-XG4-dDTv-g"
   },
   "outputs": [],
   "source": [
    "rand_clf.best_params_"
   ]
  },
  {
   "cell_type": "code",
   "execution_count": null,
   "metadata": {
    "id": "AeNHazAVTwjo"
   },
   "outputs": [],
   "source": [
    "# Printing the classification report for the randomized search hyper parameter tuned model\n",
    "\n",
    "y_pred = rand_clf.predict(X_test)\n",
    "\n",
    "print(\"The classification report after using randomized search CV\\n\", classification_report(y_test, y_pred))"
   ]
  },
  {
   "cell_type": "code",
   "execution_count": null,
   "metadata": {
    "id": "ArlZt1_fT0yQ"
   },
   "outputs": [],
   "source": [
    "confusion_matrix(y_test, y_pred)"
   ]
  },
  {
   "cell_type": "markdown",
   "metadata": {
    "id": "9LNlF7SHd2mF"
   },
   "source": [
    "# RandomizedSearchCV for Under Sampled Data"
   ]
  },
  {
   "cell_type": "code",
   "execution_count": null,
   "metadata": {
    "id": "PsoGTJaSd-yp"
   },
   "outputs": [],
   "source": [
    "base_clf = SVC()\n",
    "rand_clf = RandomizedSearchCV(base_clf, param_distributions = param_grid, verbose = 3)\n",
    "\n",
    "rand_clf.fit(X_smote, y_smote)"
   ]
  },
  {
   "cell_type": "code",
   "execution_count": null,
   "metadata": {
    "id": "iQHuOJVxeIGr"
   },
   "outputs": [],
   "source": [
    "rand_clf.best_params_"
   ]
  },
  {
   "cell_type": "code",
   "execution_count": null,
   "metadata": {
    "id": "l8QX2h1zeKuS"
   },
   "outputs": [],
   "source": [
    "y_pred = rand_clf.predict(X_test)\n",
    "\n",
    "print(\"The classification report after using randomized search CV\\n\", classification_report(y_test, y_pred))"
   ]
  },
  {
   "cell_type": "code",
   "execution_count": null,
   "metadata": {
    "id": "KNz69Z-7eNqh"
   },
   "outputs": [],
   "source": [
    "confusion_matrix(y_test, y_pred)"
   ]
  },
  {
   "cell_type": "markdown",
   "metadata": {
    "id": "I_rgg4dwO5Sc"
   },
   "source": [
    "#Using GridSearchCV for hyper parameter tuning"
   ]
  },
  {
   "cell_type": "code",
   "execution_count": null,
   "metadata": {
    "id": "hvYRoO8_Ka0A"
   },
   "outputs": [],
   "source": [
    "from sklearn.model_selection import GridSearchCV\n",
    "\n",
    "gammaValues = ['scale', 'auto']\n",
    "\n",
    "cvals = [1e-5, 1e-4, 1e-3, 0.01, 0.1, 1, 10]\n",
    "\n",
    "param_grid = {\n",
    "    'kernel': ['linear', 'rbf', 'poly'],\n",
    "    'C': cvals,\n",
    "    'degree': [i for i in range(1, 5)],\n",
    "    'gamma': gammaValues,\n",
    "    'decision_function_shape': ['ovo', 'ovr']\n",
    "}\n",
    "\n",
    "base_clf = SVC()\n",
    "grid_clf = GridSearchCV(base_clf, param_grid = param_grid, verbose = 3)\n",
    "\n",
    "grid_clf.fit(X_train, y_train)\n"
   ]
  },
  {
   "cell_type": "code",
   "execution_count": null,
   "metadata": {
    "id": "ZdcAhDTzMZEF"
   },
   "outputs": [],
   "source": [
    "# Finding the best parameters for the gridsearch CV\n",
    "grid_clf.best_params_"
   ]
  },
  {
   "cell_type": "code",
   "execution_count": null,
   "metadata": {
    "id": "iCzgdlK2Mc1W"
   },
   "outputs": [],
   "source": [
    "# Using the test data to make predictions on the input\n",
    "y_pred = grid_clf.predict(X_test)"
   ]
  },
  {
   "cell_type": "code",
   "execution_count": null,
   "metadata": {
    "id": "mcuW6n7UMkiv"
   },
   "outputs": [],
   "source": [
    "print('Classification Report after using grid search CV\\n', classification_report(y_pred = y_pred, y_true = y_test))"
   ]
  },
  {
   "cell_type": "code",
   "execution_count": null,
   "metadata": {
    "id": "fIC29ts5Mnyd"
   },
   "outputs": [],
   "source": [
    "\n",
    "\n",
    "print(\"The confusion matrix is as follows\")\n",
    "confusion_matrix(y_test, y_pred)"
   ]
  },
  {
   "cell_type": "markdown",
   "metadata": {
    "id": "MP_iQHVcGJYa"
   },
   "source": [
    "## Using SMOTE samples for GridSearchCV\n"
   ]
  },
  {
   "cell_type": "code",
   "execution_count": null,
   "metadata": {
    "id": "4wKt4yYaGOPC"
   },
   "outputs": [],
   "source": [
    "base_clf = SVC()\n",
    "grid_clf = GridSearchCV(base_clf, param_grid = param_grid, verbose = 3)\n",
    "\n",
    "grid_clf.fit(X_smote, y_smote)"
   ]
  },
  {
   "cell_type": "code",
   "execution_count": null,
   "metadata": {
    "id": "INB83-ZKJiO2"
   },
   "outputs": [],
   "source": [
    "grid_clf.best_params_"
   ]
  },
  {
   "cell_type": "code",
   "execution_count": null,
   "metadata": {
    "id": "UmWYJ6HzJnQO"
   },
   "outputs": [],
   "source": [
    "y_pred = grid_clf.predict(X_test)\n",
    "\n",
    "print('Classification Report after using grid search CV on SMOTE data\\n', classification_report(y_pred = y_pred, y_true = y_test))"
   ]
  },
  {
   "cell_type": "code",
   "execution_count": null,
   "metadata": {
    "id": "-snPjfs8fHV-"
   },
   "outputs": [],
   "source": [
    "confusion_matrix(y_pred = y_pred, y_true = y_test)"
   ]
  },
  {
   "cell_type": "markdown",
   "metadata": {
    "id": "zLqPNGXlesva"
   },
   "source": [
    "# Using GridSearchCV for Under Sampled data"
   ]
  },
  {
   "cell_type": "code",
   "execution_count": null,
   "metadata": {
    "id": "73uj1Y5Ee5fD"
   },
   "outputs": [],
   "source": [
    "param_grid = {\n",
    "    'kernel': ['linear', 'rbf', 'poly'],\n",
    "    'C': cvals,\n",
    "    'degree': [i for i in range(1, 5)],\n",
    "    'gamma': gammaValues,\n",
    "    'decision_function_shape': ['ovo', 'ovr']\n",
    "}"
   ]
  },
  {
   "cell_type": "code",
   "execution_count": null,
   "metadata": {
    "id": "W8mL77rqexoG"
   },
   "outputs": [],
   "source": [
    "base_clf = SVC()\n",
    "grid_clf = GridSearchCV(base_clf, param_grid = param_grid, verbose = 3)\n",
    "\n",
    "grid_clf.fit(X_clc, y_clc)"
   ]
  },
  {
   "cell_type": "code",
   "execution_count": null,
   "metadata": {
    "id": "23wwWxlve68i"
   },
   "outputs": [],
   "source": [
    "grid_clf.best_params_"
   ]
  },
  {
   "cell_type": "code",
   "execution_count": null,
   "metadata": {
    "id": "LwcVb74Le89v"
   },
   "outputs": [],
   "source": [
    "y_pred = grid_clf.predict(X_test)\n",
    "\n",
    "print('Classification Report after using grid search CV on SMOTE data\\n', classification_report(y_pred = y_pred, y_true = y_test))"
   ]
  },
  {
   "cell_type": "code",
   "execution_count": null,
   "metadata": {
    "id": "0jGdteTpfDFK"
   },
   "outputs": [],
   "source": [
    "confusion_matrix(y_true = y_test, y_pred = y_pred)"
   ]
  },
  {
   "cell_type": "markdown",
   "metadata": {
    "id": "EhKDcXQNKazn"
   },
   "source": [
    "# Visualising clusters using Principal Component Analysis (PCA and Kernel PCA)"
   ]
  },
  {
   "cell_type": "code",
   "execution_count": null,
   "metadata": {
    "id": "iL2DgDsWKazo"
   },
   "outputs": [],
   "source": [
    "from sklearn.decomposition import PCA\n",
    "label_encoding_dict['Sleep Disorder'].classes_"
   ]
  },
  {
   "cell_type": "code",
   "execution_count": null,
   "metadata": {
    "id": "2MSeEY6SKazo"
   },
   "outputs": [],
   "source": [
    "features = [key for key in df if (key != 'Sleep Disorder' and key != 'Stress Level')]\n",
    "# ['Insomnia', 'None', 'Sleep Apnea'] the labels associated with 0,1,2\n",
    "pca = PCA(n_components=len(features))\n",
    "df_full_pca = pca.fit_transform(df[features])\n",
    "labels = label_encoding_dict['Sleep Disorder'].classes_\n",
    "colors = ['r', 'g', 'b']\n",
    "\n",
    "for i, label in enumerate(labels):\n",
    "    plt.scatter(df_full_pca[df['Sleep Disorder'] == i, 0],\n",
    "                df_full_pca[df['Sleep Disorder'] == i, 1],\n",
    "                label=label,\n",
    "                color=colors[i])\n",
    "plt.xlabel('Principal Component 1')\n",
    "plt.ylabel('Principal Component 2')\n",
    "plt.title('PCA of Sleep Disorder')\n",
    "plt.legend()\n",
    "plt.show()"
   ]
  },
  {
   "cell_type": "markdown",
   "metadata": {
    "id": "LzwUsHRTKazp"
   },
   "source": [
    "## Visualising Explained Variance Ratio vs Number of Components, & finding the optimal number of components"
   ]
  },
  {
   "cell_type": "code",
   "execution_count": null,
   "metadata": {
    "id": "3EGnEP3FKaz0"
   },
   "outputs": [],
   "source": [
    "# explained variance ratio graph\n",
    "plt.plot([i+1 for i in range(len(pca.explained_variance_ratio_)) ],np.cumsum(pca.explained_variance_ratio_))\n",
    "plt.xlabel('Number of Components')\n",
    "plt.ylabel('Explained Variance Ratio')\n",
    "plt.title('Explained Variance Ratio vs Number of Components')\n",
    "# show all the ticks in x-axis\n",
    "plt.xticks([i+1 for i in range(len(pca.explained_variance_ratio_))])\n",
    "# show the points in the graph with x,y values\n",
    "for i in range(len(pca.explained_variance_ratio_)):\n",
    "    plt.text(i+1, np.cumsum(pca.explained_variance_ratio_)[i], f'({i+1}, {np.cumsum(pca.explained_variance_ratio_)[i]:.2f})', fontsize=6\n",
    "             , verticalalignment='bottom', horizontalalignment='right')\n",
    "    plt.grid()\n",
    "plt.show()"
   ]
  },
  {
   "cell_type": "markdown",
   "metadata": {
    "id": "yepdMZH3Kaz1"
   },
   "source": [
    "## From here we can see that at Number of Components = 5, it has achieved 91% of cumulative variance ratio. So we would try the classification using the new 5 components"
   ]
  },
  {
   "cell_type": "code",
   "execution_count": null,
   "metadata": {
    "id": "c--hcGn_Kaz1"
   },
   "outputs": [],
   "source": [
    "features = [key for key in df if (key != 'Sleep Disorder' and key != 'Stress Level')]\n",
    "new_pca = PCA(n_components=5)\n",
    "new_pca.fit(df[features])\n",
    "new_points = new_pca.transform(df[features])"
   ]
  },
  {
   "cell_type": "code",
   "execution_count": null,
   "metadata": {
    "id": "afCH-tyPKaz2"
   },
   "outputs": [],
   "source": [
    "X = df.drop(columns=['Stress Level','Sleep Disorder'])\n",
    "y = df['Sleep Disorder']\n",
    "\n",
    "from sklearn.model_selection import train_test_split\n",
    "X_train, X_test, y_train, y_test = train_test_split( X, y, test_size=0.3, random_state=42)\n",
    "\n",
    "from sklearn.svm import SVC\n",
    "from sklearn.metrics import classification_report\n",
    "\n",
    "# {'C': 8.430136277531556,\n",
    "#  'decision_function_shape': 'ovr',\n",
    "#  'degree': 4,\n",
    "#  'gamma': 'auto',\n",
    "#  'kernel': 'rbf'}\n",
    "\n",
    "\n",
    "\n",
    "\n",
    "\n",
    "clf = SVC(kernel='rbf',degree=4,C=8.430136277531556,gamma='auto',decision_function_shape='ovr') # found 11 through various trial\n",
    "\n",
    " # training set in x, y axis\n",
    "clf.fit(new_pca.transform(X_train),y_train)\n",
    "y_pred = clf.predict(new_pca.transform(X_test))\n",
    "\n",
    "print('Classification Report',classification_report(y_test,y_pred))"
   ]
  },
  {
   "cell_type": "markdown",
   "metadata": {
    "id": "O7m_838KRb1m"
   },
   "source": [
    "#using ensemble methods for imporving accuracy and reduce overfitting\n"
   ]
  },
  {
   "cell_type": "code",
   "execution_count": null,
   "metadata": {
    "id": "ypEUyZsUSb7I"
   },
   "outputs": [],
   "source": [
    "from sklearn.ensemble import RandomForestRegressor, RandomForestClassifier\n",
    "from sklearn.metrics import mean_squared_error, r2_score, confusion_matrix, ConfusionMatrixDisplay, accuracy_score\n",
    "import matplotlib.pyplot as plt\n",
    "import numpy as np"
   ]
  },
  {
   "cell_type": "code",
   "execution_count": null,
   "metadata": {
    "id": "_44Nd-o-SSYS"
   },
   "outputs": [],
   "source": [
    "y2 = df['Sleep Disorder']\n",
    "y = df['Stress Level']"
   ]
  },
  {
   "cell_type": "markdown",
   "metadata": {
    "id": "oMJYmiiqoRIZ"
   },
   "source": [
    "# Ensembles for Regression"
   ]
  },
  {
   "cell_type": "code",
   "execution_count": null,
   "metadata": {
    "id": "lm0-BoOYo1s4"
   },
   "outputs": [],
   "source": []
  },
  {
   "cell_type": "code",
   "execution_count": null,
   "metadata": {
    "id": "TL_H14WkRbHP"
   },
   "outputs": [],
   "source": [
    "\n",
    "from sklearn.model_selection import train_test_split\n",
    "X_train, X_test, y_train, y_test = train_test_split(\n",
    "    X, y, test_size=0.3, random_state=42)\n",
    "\n",
    "from sklearn.svm import SVR\n",
    "from sklearn.ensemble import BaggingRegressor\n",
    "regr = BaggingRegressor(estimator=SVR(),\n",
    "                        n_estimators=80, random_state=0).fit(X_train, y_train)\n",
    "y_pred = regr.predict(X_test)\n",
    "\n",
    "from sklearn.metrics import mean_squared_error\n",
    "print('mean squared error' , mean_squared_error(y_test,y_pred))"
   ]
  },
  {
   "cell_type": "code",
   "execution_count": null,
   "metadata": {
    "id": "HCeFkml8Ra7D"
   },
   "outputs": [],
   "source": [
    "\n",
    "rf_regressor = RandomForestRegressor(random_state=42)\n",
    "rf_regressor.fit(X_train, y_train)\n",
    "\n",
    "\n",
    "y_pred_reg = rf_regressor.predict(X_test)\n",
    "mse_reg = mean_squared_error(y_test, y_pred_reg)\n",
    "r2_reg = r2_score(y_test, y_pred_reg)\n",
    "\n",
    "# Calculate the differences (residuals)\n",
    "residuals = y_test - y_pred_reg\n",
    "\n",
    "# Plot the residuals\n",
    "plt.figure(figsize=(10, 6))\n",
    "plt.scatter(range(len(residuals)), y_test, label=\"Actual\", color='blue', marker='o', alpha=0.7)\n",
    "plt.scatter(range(len(residuals)), y_pred_reg, label=\"Predicted\", color='red', marker='o', alpha=0.7)\n",
    "\n",
    "plt.axhline(0, color='black', linestyle='--', lw=2)  # Add a horizontal line at y=0 for reference\n",
    "plt.xlabel(\"Index\")\n",
    "plt.ylabel(\"Difference in Stress Level\")\n",
    "plt.title(\"Difference between Actual and Predicted Stress Level\")\n",
    "plt.legend()\n",
    "plt.show()\n",
    "\n",
    "\n",
    "print(\"mse_reg\",mse_reg)\n",
    "print(\"r2_reg\",r2_reg)\n"
   ]
  },
  {
   "cell_type": "code",
   "execution_count": null,
   "metadata": {
    "id": "cO3RgLnXFwgI"
   },
   "outputs": [],
   "source": [
    "plt.figure(figsize=(10, 6))\n",
    "plt.plot(range(len(residuals)), residuals, label=\"Predicted\", color='purple', marker='o', alpha=0.6)\n",
    "plt.xlabel(\"Index\")\n",
    "plt.ylabel(\"Difference in Stress Level\")\n",
    "plt.title(\"Difference between Actual and Predicted Stress Level\")\n",
    "\n",
    "plt.show()\n"
   ]
  },
  {
   "cell_type": "markdown",
   "metadata": {
    "id": "Vl2YMnkXu_G9"
   },
   "source": [
    "# classification using Ensembles"
   ]
  },
  {
   "cell_type": "code",
   "execution_count": null,
   "metadata": {
    "id": "eU_9bNv0Sdvo"
   },
   "outputs": [],
   "source": [
    "X_train_clf, X_test_clf, y_train_clf, y_test_clf = train_test_split(X, y2, test_size=0.2, random_state=42)\n"
   ]
  },
  {
   "cell_type": "code",
   "execution_count": null,
   "metadata": {
    "id": "z3glXTNzSduQ"
   },
   "outputs": [],
   "source": [
    "# 3. Train a Random Forest Classifier\n",
    "rf_classifier = RandomForestClassifier(random_state=42)\n",
    "rf_classifier.fit(X_train_clf, y_train_clf)\n",
    "\n",
    "# 4. Predict on the test set\n",
    "y_pred_clf = rf_classifier.predict(X_test_clf)\n",
    "\n",
    "# 5. Calculate classification metrics\n",
    "accuracy_clf = accuracy_score(y_test_clf, y_pred_clf)\n",
    "\n",
    "# 6. Confusion matrix\n",
    "conf_matrix = confusion_matrix(y_test_clf, y_pred_clf)\n",
    "ConfusionMatrixDisplay(conf_matrix).plot(cmap=\"Blues\")\n",
    "plt.title(\"Confusion Matrix for Sleep Disorder Classification\")\n",
    "plt.show()\n",
    "\n",
    "print(f\"Classification Accuracy: {accuracy_clf}\")\n",
    "print('confusion_matrix \\n',conf_matrix)\n",
    "# Explanation of Corrections:"
   ]
  },
  {
   "cell_type": "markdown",
   "metadata": {
    "id": "D4FmAEUWpHRM"
   },
   "source": [
    "## Finding the best n_estimators for Random Forest Classifier\n"
   ]
  },
  {
   "cell_type": "code",
   "execution_count": null,
   "metadata": {
    "id": "l2zOzCvvpBhX"
   },
   "outputs": [],
   "source": [
    "l2 = []\n",
    "for  i in range(1,80):\n",
    "    rf_classifier = RandomForestClassifier(n_estimators=i,random_state=42)\n",
    "    rf_classifier.fit(X_train_clf, y_train_clf)\n",
    "\n",
    "    # 4. Predict on the test set\n",
    "    y_pred_clf = rf_classifier.predict(X_test_clf)\n",
    "\n",
    "    # 5. Calculate classification metrics\n",
    "    accuracy_clf = accuracy_score(y_test_clf, y_pred_clf)\n",
    "    l2.append(accuracy_clf)\n",
    "plt.plot(range(1,80),l2)\n",
    "plt.ylabel('Accuracy')\n",
    "plt.xlabel('Number of Estimators')\n",
    "plt.show()"
   ]
  },
  {
   "cell_type": "code",
   "execution_count": null,
   "metadata": {
    "id": "PRqJFvt5Sdny"
   },
   "outputs": [],
   "source": [
    "# choosing various ensemble methods for regression and classification"
   ]
  },
  {
   "cell_type": "code",
   "execution_count": null,
   "metadata": {
    "id": "y8bT9O1rSdmW"
   },
   "outputs": [],
   "source": [
    "\n",
    "from sklearn.ensemble import RandomForestRegressor, GradientBoostingRegressor, AdaBoostRegressor, BaggingRegressor\n",
    "\n",
    "from xgboost import XGBRegressor, XGBClassifier\n",
    "\n",
    "\n",
    "# Split the data into training and testing sets\n",
    "X_train_reg, X_test_reg, y_train_reg, y_test_reg = train_test_split(X, y, test_size=0.2, random_state=42)\n",
    "\n",
    "# Define and train ensemble regressors\n",
    "regressors = {\n",
    "    \"Random Forest\": RandomForestRegressor(random_state=42),\n",
    "    \"Gradient Boosting\": GradientBoostingRegressor(random_state=42),\n",
    "    \"AdaBoost\": AdaBoostRegressor(random_state=42),\n",
    "    \"Bagging\": BaggingRegressor(estimator=RandomForestRegressor(), random_state=42),\n",
    "    \"XGBoost\": XGBRegressor(objective='reg:squarederror', random_state=42)\n",
    "}\n",
    "\n",
    "# Evaluate each regressor\n",
    "for name, model in regressors.items():\n",
    "    model.fit(X_train_reg, y_train_reg)\n",
    "    y_pred_reg = model.predict(X_test_reg)\n",
    "    mse = mean_squared_error(y_test_reg, y_pred_reg)\n",
    "    r2 = r2_score(y_test_reg, y_pred_reg)\n",
    "    print(f\"{name} Regressor - MSE: {mse:.4f}, R2 Score: {r2:.4f}\")\n",
    "    residuals = y_test_reg - y_pred_reg\n",
    "\n",
    "    # Plot the residuals\n",
    "    plt.figure(figsize=(10, 6))\n",
    "    plt.plot(range(len(residuals)), residuals, label=\"Difference (Actual - Predicted)\", color='purple', marker='o', alpha=0.7)\n",
    "    plt.axhline(0, color='black', linestyle='--', lw=2)  # Add a horizontal line at y=0 for reference\n",
    "    plt.xlabel(\"Index\")\n",
    "    plt.ylabel(\"Difference in Stress Level\")\n",
    "    plt.title(f\"Difference between Actual and Predicted Stress Level {name}\")\n",
    "    plt.legend()\n",
    "    plt.show()\n"
   ]
  },
  {
   "cell_type": "markdown",
   "metadata": {
    "id": "4iDUygS7nsZD"
   },
   "source": [
    "### The best Ensemble Regressor is XG Boost"
   ]
  },
  {
   "cell_type": "code",
   "execution_count": null,
   "metadata": {
    "id": "47o1OE1RnsHf"
   },
   "outputs": [],
   "source": []
  },
  {
   "cell_type": "code",
   "execution_count": null,
   "metadata": {
    "id": "M4jStzTQS2lD"
   },
   "outputs": [],
   "source": [
    "\n",
    "\n",
    "from sklearn.ensemble import RandomForestClassifier, GradientBoostingClassifier, AdaBoostClassifier, BaggingClassifier\n",
    "X_train_clf, X_test_clf, y_train_clf, y_test_clf = train_test_split(X, y2, test_size=0.2, random_state=42)\n",
    "\n",
    "# Define and train ensemble classifiers\n",
    "classifiers = {\n",
    "    \"Random Forest\": RandomForestClassifier(n_estimators=40,random_state=42),\n",
    "    \"Gradient Boosting\": GradientBoostingClassifier(random_state=42),\n",
    "    \"AdaBoost\": AdaBoostClassifier(random_state=42),\n",
    "    \"Bagging\": BaggingClassifier(estimator=RandomForestClassifier(), random_state=42),\n",
    "    \"XGBoost\": XGBClassifier(eval_metric='logloss', random_state=42)\n",
    "}\n",
    "\n",
    "# Evaluate each classifier\n",
    "for name, model in classifiers.items():\n",
    "    model.fit(X_train_clf, y_train_clf)\n",
    "    y_pred_clf = model.predict(X_test_clf)\n",
    "    accuracy = accuracy_score(y_test_clf, y_pred_clf)\n",
    "    print(f\"{name} Classifier - Accuracy: {accuracy:.4f}\")\n",
    "\n",
    "    # Confusion Matrix for each classifier\n",
    "    conf_matrix = confusion_matrix(y_test_clf, y_pred_clf)\n",
    "    ConfusionMatrixDisplay(conf_matrix).plot(cmap=\"Blues\")\n",
    "    plt.title(f\"Confusion Matrix for {name} Classifier\")\n",
    "    plt.show()"
   ]
  },
  {
   "cell_type": "markdown",
   "metadata": {
    "id": "5jPjcra8nSo8"
   },
   "source": [
    "## The best Ensemble Classifier are Random Forest, Gradient Boosting and XG Boost"
   ]
  },
  {
   "cell_type": "markdown",
   "metadata": {
    "id": "gl9seiYKrVoi"
   },
   "source": [
    "# precision recall graphs\n"
   ]
  },
  {
   "cell_type": "code",
   "execution_count": null,
   "metadata": {
    "id": "F2UrILQ6S2em"
   },
   "outputs": [],
   "source": [
    "from sklearn.preprocessing import label_binarize\n",
    "y=df['Sleep Disorder']\n",
    "# Use label_binarize to be multi-label like settings\n",
    "Y = label_binarize(y, classes=[0, 1, 2])\n",
    "n_classes = Y.shape[1]\n",
    "\n",
    "# Split into training and test\n",
    "X_train2, X_test2, Y_train2, Y_test2 = train_test_split(\n",
    "    X, Y, test_size=0.2, random_state=42\n",
    ")\n",
    "\n",
    "from sklearn.multiclass import OneVsRestClassifier\n",
    "from sklearn.pipeline import make_pipeline\n",
    "classifier = OneVsRestClassifier(\n",
    "    make_pipeline(StandardScaler(), SVC(random_state= 42))\n",
    ")\n",
    "classifier.fit(X_train2, Y_train2)\n",
    "y_score = classifier.decision_function(X_test2)\n",
    "\n",
    "from sklearn.metrics import average_precision_score, precision_recall_curve\n",
    "\n",
    "# For each class\n",
    "precision = dict()\n",
    "recall = dict()\n",
    "average_precision = dict()\n",
    "for i in range(3):\n",
    "    precision[i], recall[i], _ = precision_recall_curve(Y_test2[:, i] , y_score[:, i])\n",
    "    average_precision[i] = average_precision_score(Y_test2[:, i] , y_score[:, i])\n",
    "\n",
    "# A \"micro-average\": quantifying score on all classes jointly\n",
    "precision[\"micro\"], recall[\"micro\"], _ = precision_recall_curve(\n",
    "    Y_test2.ravel(), y_score.ravel()\n",
    ")\n",
    "average_precision[\"micro\"] = average_precision_score(Y_test2 , y_score, average=\"micro\")\n",
    "\n",
    "from collections import Counter\n",
    "from sklearn.metrics import PrecisionRecallDisplay\n",
    "display = PrecisionRecallDisplay(\n",
    "    recall=recall[\"micro\"],\n",
    "    precision=precision[\"micro\"],\n",
    "    average_precision=average_precision[\"micro\"],\n",
    "    prevalence_pos_label=Counter(Y_test2.ravel())[1] / Y_test2.size,\n",
    ")\n",
    "display.plot(plot_chance_level=True)\n",
    "_ = display.ax_.set_title(\"Micro-averaged over all classes\")"
   ]
  },
  {
   "cell_type": "code",
   "execution_count": null,
   "metadata": {
    "id": "KDXdMHo5S2c9"
   },
   "outputs": [],
   "source": [
    "from itertools import cycle\n",
    "\n",
    "import matplotlib.pyplot as plt\n",
    "\n",
    "# setup plot details\n",
    "colors = cycle([\"navy\", \"turquoise\", \"darkorange\", \"cornflowerblue\", \"teal\"])\n",
    "\n",
    "_, ax = plt.subplots(figsize=(7, 8))\n",
    "\n",
    "f_scores = np.linspace(0.2, 0.8, num=4)\n",
    "lines, labels = [], []\n",
    "for f_score in f_scores:\n",
    "    x = np.linspace(0.01, 1)\n",
    "    y = f_score * x / (2 * x - f_score)\n",
    "    (l,) = plt.plot(x[y >= 0], y[y >= 0], color=\"gray\", alpha=0.2)\n",
    "    plt.annotate(\"f1={0:0.1f}\".format(f_score), xy=(0.9, y[45] + 0.02))\n",
    "\n",
    "display = PrecisionRecallDisplay(\n",
    "    recall=recall[\"micro\"],\n",
    "    precision=precision[\"micro\"],\n",
    "    average_precision=average_precision[\"micro\"],\n",
    ")\n",
    "display.plot(ax=ax, name=\"Micro-average precision-recall\", color=\"gold\")\n",
    "\n",
    "for i, color in zip(range(n_classes), colors):\n",
    "    display = PrecisionRecallDisplay(\n",
    "        recall=recall[i],\n",
    "        precision=precision[i],\n",
    "        average_precision=average_precision[i],\n",
    "    )\n",
    "    display.plot(ax=ax, name=f\"Precision-recall for class {i}\", color=color)\n",
    "\n",
    "# add the legend for the iso-f1 curves\n",
    "handles, labels = display.ax_.get_legend_handles_labels()\n",
    "handles.extend([l])\n",
    "labels.extend([\"iso-f1 curves\"])\n",
    "# set the legend and the axes\n",
    "ax.legend(handles=handles, labels=labels, loc=\"best\")\n",
    "ax.set_title(\"Extension of Precision-Recall curve to multi-class\")\n",
    "\n",
    "plt.show()"
   ]
  },
  {
   "cell_type": "code",
   "execution_count": null,
   "metadata": {
    "id": "wVWDKw29vdJD"
   },
   "outputs": [],
   "source": []
  }
 ],
 "metadata": {
  "colab": {
   "provenance": []
  },
  "kernelspec": {
   "display_name": "Python 3",
   "language": "python",
   "name": "python3"
  },
  "language_info": {
   "codemirror_mode": {
    "name": "ipython",
    "version": 3
   },
   "file_extension": ".py",
   "mimetype": "text/x-python",
   "name": "python",
   "nbconvert_exporter": "python",
   "pygments_lexer": "ipython3",
   "version": "3.11.0"
  }
 },
 "nbformat": 4,
 "nbformat_minor": 0
}
